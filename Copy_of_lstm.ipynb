{
  "nbformat": 4,
  "nbformat_minor": 0,
  "metadata": {
    "kernelspec": {
      "display_name": "Python 3",
      "language": "python",
      "name": "python3"
    },
    "language_info": {
      "codemirror_mode": {
        "name": "ipython",
        "version": 3
      },
      "file_extension": ".py",
      "mimetype": "text/x-python",
      "name": "python",
      "nbconvert_exporter": "python",
      "pygments_lexer": "ipython3",
      "version": "3.6.9"
    },
    "colab": {
      "name": "Copy of lstm.ipynb",
      "provenance": [],
      "include_colab_link": true
    }
  },
  "cells": [
    {
      "cell_type": "markdown",
      "metadata": {
        "id": "view-in-github",
        "colab_type": "text"
      },
      "source": [
        "<a href=\"https://colab.research.google.com/github/rikokir/Stock-MArket-Forecasting/blob/master/Copy_of_lstm.ipynb\" target=\"_parent\"><img src=\"https://colab.research.google.com/assets/colab-badge.svg\" alt=\"Open In Colab\"/></a>"
      ]
    },
    {
      "cell_type": "markdown",
      "metadata": {
        "id": "DjkG2ztpw6Bf"
      },
      "source": [
        "### Stock Market Prediction And Forecasting Using Stacked LSTM"
      ]
    },
    {
      "cell_type": "code",
      "metadata": {
        "id": "NZCt_SIAw6Bk"
      },
      "source": [
        "### Keras and Tensorflow >2.0"
      ],
      "execution_count": null,
      "outputs": []
    },
    {
      "cell_type": "code",
      "metadata": {
        "id": "KtDaY0hBw6Bk"
      },
      "source": [
        "### Data Collection\n",
        "import pandas_datareader as pdr\n",
        "key=\"f95e1311d091a607a90f6f5fa28631fe741523bd\""
      ],
      "execution_count": null,
      "outputs": []
    },
    {
      "cell_type": "code",
      "metadata": {
        "id": "4tL43B10w6Bm"
      },
      "source": [
        "df = pdr.get_data_tiingo('AAPL', api_key=key)"
      ],
      "execution_count": null,
      "outputs": []
    },
    {
      "cell_type": "code",
      "metadata": {
        "id": "A8iZX5RBw6Bm"
      },
      "source": [
        "df.to_csv('AAPL.csv')"
      ],
      "execution_count": null,
      "outputs": []
    },
    {
      "cell_type": "code",
      "metadata": {
        "id": "ck08ekyuw6Bm"
      },
      "source": [
        "import pandas as pd"
      ],
      "execution_count": null,
      "outputs": []
    },
    {
      "cell_type": "code",
      "metadata": {
        "id": "yXpBPD5Tw6Bo"
      },
      "source": [
        "df=pd.read_csv('AAPL.csv')"
      ],
      "execution_count": null,
      "outputs": []
    },
    {
      "cell_type": "code",
      "metadata": {
        "colab": {
          "base_uri": "https://localhost:8080/",
          "height": 313
        },
        "id": "CTKJ_gPQw6Bo",
        "outputId": "e23f75f9-ca78-4a24-f559-263570dfe305"
      },
      "source": [
        "df.head()"
      ],
      "execution_count": null,
      "outputs": [
        {
          "output_type": "execute_result",
          "data": {
            "text/html": [
              "<div>\n",
              "<style scoped>\n",
              "    .dataframe tbody tr th:only-of-type {\n",
              "        vertical-align: middle;\n",
              "    }\n",
              "\n",
              "    .dataframe tbody tr th {\n",
              "        vertical-align: top;\n",
              "    }\n",
              "\n",
              "    .dataframe thead th {\n",
              "        text-align: right;\n",
              "    }\n",
              "</style>\n",
              "<table border=\"1\" class=\"dataframe\">\n",
              "  <thead>\n",
              "    <tr style=\"text-align: right;\">\n",
              "      <th></th>\n",
              "      <th>symbol</th>\n",
              "      <th>date</th>\n",
              "      <th>close</th>\n",
              "      <th>high</th>\n",
              "      <th>low</th>\n",
              "      <th>open</th>\n",
              "      <th>volume</th>\n",
              "      <th>adjClose</th>\n",
              "      <th>adjHigh</th>\n",
              "      <th>adjLow</th>\n",
              "      <th>adjOpen</th>\n",
              "      <th>adjVolume</th>\n",
              "      <th>divCash</th>\n",
              "      <th>splitFactor</th>\n",
              "    </tr>\n",
              "  </thead>\n",
              "  <tbody>\n",
              "    <tr>\n",
              "      <th>0</th>\n",
              "      <td>AAPL</td>\n",
              "      <td>2016-02-29 00:00:00+00:00</td>\n",
              "      <td>96.69</td>\n",
              "      <td>98.2300</td>\n",
              "      <td>96.65</td>\n",
              "      <td>96.86</td>\n",
              "      <td>35216277</td>\n",
              "      <td>22.479143</td>\n",
              "      <td>22.837172</td>\n",
              "      <td>22.469843</td>\n",
              "      <td>22.518665</td>\n",
              "      <td>140865108</td>\n",
              "      <td>0.0</td>\n",
              "      <td>1.0</td>\n",
              "    </tr>\n",
              "    <tr>\n",
              "      <th>1</th>\n",
              "      <td>AAPL</td>\n",
              "      <td>2016-03-01 00:00:00+00:00</td>\n",
              "      <td>100.53</td>\n",
              "      <td>100.7700</td>\n",
              "      <td>97.42</td>\n",
              "      <td>97.65</td>\n",
              "      <td>50407147</td>\n",
              "      <td>23.371892</td>\n",
              "      <td>23.427688</td>\n",
              "      <td>22.648858</td>\n",
              "      <td>22.702330</td>\n",
              "      <td>201628588</td>\n",
              "      <td>0.0</td>\n",
              "      <td>1.0</td>\n",
              "    </tr>\n",
              "    <tr>\n",
              "      <th>2</th>\n",
              "      <td>AAPL</td>\n",
              "      <td>2016-03-02 00:00:00+00:00</td>\n",
              "      <td>100.75</td>\n",
              "      <td>100.8900</td>\n",
              "      <td>99.64</td>\n",
              "      <td>100.51</td>\n",
              "      <td>33169560</td>\n",
              "      <td>23.423039</td>\n",
              "      <td>23.455587</td>\n",
              "      <td>23.164978</td>\n",
              "      <td>23.367242</td>\n",
              "      <td>132678240</td>\n",
              "      <td>0.0</td>\n",
              "      <td>1.0</td>\n",
              "    </tr>\n",
              "    <tr>\n",
              "      <th>3</th>\n",
              "      <td>AAPL</td>\n",
              "      <td>2016-03-03 00:00:00+00:00</td>\n",
              "      <td>101.50</td>\n",
              "      <td>101.7099</td>\n",
              "      <td>100.45</td>\n",
              "      <td>100.58</td>\n",
              "      <td>36955742</td>\n",
              "      <td>23.597404</td>\n",
              "      <td>23.646203</td>\n",
              "      <td>23.353293</td>\n",
              "      <td>23.383516</td>\n",
              "      <td>147822968</td>\n",
              "      <td>0.0</td>\n",
              "      <td>1.0</td>\n",
              "    </tr>\n",
              "    <tr>\n",
              "      <th>4</th>\n",
              "      <td>AAPL</td>\n",
              "      <td>2016-03-04 00:00:00+00:00</td>\n",
              "      <td>103.01</td>\n",
              "      <td>103.7500</td>\n",
              "      <td>101.37</td>\n",
              "      <td>102.37</td>\n",
              "      <td>46055100</td>\n",
              "      <td>23.948459</td>\n",
              "      <td>24.120499</td>\n",
              "      <td>23.567180</td>\n",
              "      <td>23.799667</td>\n",
              "      <td>184220400</td>\n",
              "      <td>0.0</td>\n",
              "      <td>1.0</td>\n",
              "    </tr>\n",
              "  </tbody>\n",
              "</table>\n",
              "</div>"
            ],
            "text/plain": [
              "  symbol                       date   close  ...  adjVolume  divCash  splitFactor\n",
              "0   AAPL  2016-02-29 00:00:00+00:00   96.69  ...  140865108      0.0          1.0\n",
              "1   AAPL  2016-03-01 00:00:00+00:00  100.53  ...  201628588      0.0          1.0\n",
              "2   AAPL  2016-03-02 00:00:00+00:00  100.75  ...  132678240      0.0          1.0\n",
              "3   AAPL  2016-03-03 00:00:00+00:00  101.50  ...  147822968      0.0          1.0\n",
              "4   AAPL  2016-03-04 00:00:00+00:00  103.01  ...  184220400      0.0          1.0\n",
              "\n",
              "[5 rows x 14 columns]"
            ]
          },
          "metadata": {
            "tags": []
          },
          "execution_count": 33
        }
      ]
    },
    {
      "cell_type": "code",
      "metadata": {
        "colab": {
          "base_uri": "https://localhost:8080/",
          "height": 313
        },
        "id": "g9XNDe3Ew6Bp",
        "outputId": "11c39170-63bc-4548-88d2-8320d926397a"
      },
      "source": [
        "df.tail()"
      ],
      "execution_count": null,
      "outputs": [
        {
          "output_type": "execute_result",
          "data": {
            "text/html": [
              "<div>\n",
              "<style scoped>\n",
              "    .dataframe tbody tr th:only-of-type {\n",
              "        vertical-align: middle;\n",
              "    }\n",
              "\n",
              "    .dataframe tbody tr th {\n",
              "        vertical-align: top;\n",
              "    }\n",
              "\n",
              "    .dataframe thead th {\n",
              "        text-align: right;\n",
              "    }\n",
              "</style>\n",
              "<table border=\"1\" class=\"dataframe\">\n",
              "  <thead>\n",
              "    <tr style=\"text-align: right;\">\n",
              "      <th></th>\n",
              "      <th>symbol</th>\n",
              "      <th>date</th>\n",
              "      <th>close</th>\n",
              "      <th>high</th>\n",
              "      <th>low</th>\n",
              "      <th>open</th>\n",
              "      <th>volume</th>\n",
              "      <th>adjClose</th>\n",
              "      <th>adjHigh</th>\n",
              "      <th>adjLow</th>\n",
              "      <th>adjOpen</th>\n",
              "      <th>adjVolume</th>\n",
              "      <th>divCash</th>\n",
              "      <th>splitFactor</th>\n",
              "    </tr>\n",
              "  </thead>\n",
              "  <tbody>\n",
              "    <tr>\n",
              "      <th>1254</th>\n",
              "      <td>AAPL</td>\n",
              "      <td>2021-02-22 00:00:00+00:00</td>\n",
              "      <td>126.00</td>\n",
              "      <td>129.7200</td>\n",
              "      <td>125.60</td>\n",
              "      <td>128.01</td>\n",
              "      <td>102886922</td>\n",
              "      <td>126.00</td>\n",
              "      <td>129.7200</td>\n",
              "      <td>125.60</td>\n",
              "      <td>128.01</td>\n",
              "      <td>102886922</td>\n",
              "      <td>0.0</td>\n",
              "      <td>1.0</td>\n",
              "    </tr>\n",
              "    <tr>\n",
              "      <th>1255</th>\n",
              "      <td>AAPL</td>\n",
              "      <td>2021-02-23 00:00:00+00:00</td>\n",
              "      <td>125.86</td>\n",
              "      <td>126.7100</td>\n",
              "      <td>118.39</td>\n",
              "      <td>123.76</td>\n",
              "      <td>158273022</td>\n",
              "      <td>125.86</td>\n",
              "      <td>126.7100</td>\n",
              "      <td>118.39</td>\n",
              "      <td>123.76</td>\n",
              "      <td>158273022</td>\n",
              "      <td>0.0</td>\n",
              "      <td>1.0</td>\n",
              "    </tr>\n",
              "    <tr>\n",
              "      <th>1256</th>\n",
              "      <td>AAPL</td>\n",
              "      <td>2021-02-24 00:00:00+00:00</td>\n",
              "      <td>125.35</td>\n",
              "      <td>125.5600</td>\n",
              "      <td>122.23</td>\n",
              "      <td>124.94</td>\n",
              "      <td>111039904</td>\n",
              "      <td>125.35</td>\n",
              "      <td>125.5600</td>\n",
              "      <td>122.23</td>\n",
              "      <td>124.94</td>\n",
              "      <td>111039904</td>\n",
              "      <td>0.0</td>\n",
              "      <td>1.0</td>\n",
              "    </tr>\n",
              "    <tr>\n",
              "      <th>1257</th>\n",
              "      <td>AAPL</td>\n",
              "      <td>2021-02-25 00:00:00+00:00</td>\n",
              "      <td>120.99</td>\n",
              "      <td>126.4585</td>\n",
              "      <td>120.54</td>\n",
              "      <td>124.68</td>\n",
              "      <td>144766924</td>\n",
              "      <td>120.99</td>\n",
              "      <td>126.4585</td>\n",
              "      <td>120.54</td>\n",
              "      <td>124.68</td>\n",
              "      <td>144766924</td>\n",
              "      <td>0.0</td>\n",
              "      <td>1.0</td>\n",
              "    </tr>\n",
              "    <tr>\n",
              "      <th>1258</th>\n",
              "      <td>AAPL</td>\n",
              "      <td>2021-02-26 00:00:00+00:00</td>\n",
              "      <td>121.26</td>\n",
              "      <td>124.8500</td>\n",
              "      <td>121.20</td>\n",
              "      <td>122.59</td>\n",
              "      <td>163424672</td>\n",
              "      <td>121.26</td>\n",
              "      <td>124.8500</td>\n",
              "      <td>121.20</td>\n",
              "      <td>122.59</td>\n",
              "      <td>163424672</td>\n",
              "      <td>0.0</td>\n",
              "      <td>1.0</td>\n",
              "    </tr>\n",
              "  </tbody>\n",
              "</table>\n",
              "</div>"
            ],
            "text/plain": [
              "     symbol                       date   close  ...  adjVolume  divCash  splitFactor\n",
              "1254   AAPL  2021-02-22 00:00:00+00:00  126.00  ...  102886922      0.0          1.0\n",
              "1255   AAPL  2021-02-23 00:00:00+00:00  125.86  ...  158273022      0.0          1.0\n",
              "1256   AAPL  2021-02-24 00:00:00+00:00  125.35  ...  111039904      0.0          1.0\n",
              "1257   AAPL  2021-02-25 00:00:00+00:00  120.99  ...  144766924      0.0          1.0\n",
              "1258   AAPL  2021-02-26 00:00:00+00:00  121.26  ...  163424672      0.0          1.0\n",
              "\n",
              "[5 rows x 14 columns]"
            ]
          },
          "metadata": {
            "tags": []
          },
          "execution_count": 35
        }
      ]
    },
    {
      "cell_type": "code",
      "metadata": {
        "id": "npiPZMd0w6Bq"
      },
      "source": [
        "df1=df.reset_index()['close']"
      ],
      "execution_count": null,
      "outputs": []
    },
    {
      "cell_type": "code",
      "metadata": {
        "colab": {
          "base_uri": "https://localhost:8080/"
        },
        "id": "I-FuGiBEw6Bq",
        "outputId": "745a4b4e-8bd5-4795-9e91-731e4e42d9da"
      },
      "source": [
        "df1"
      ],
      "execution_count": null,
      "outputs": [
        {
          "output_type": "execute_result",
          "data": {
            "text/plain": [
              "0        96.69\n",
              "1       100.53\n",
              "2       100.75\n",
              "3       101.50\n",
              "4       103.01\n",
              "         ...  \n",
              "1254    126.00\n",
              "1255    125.86\n",
              "1256    125.35\n",
              "1257    120.99\n",
              "1258    121.26\n",
              "Name: close, Length: 1259, dtype: float64"
            ]
          },
          "metadata": {
            "tags": []
          },
          "execution_count": 37
        }
      ]
    },
    {
      "cell_type": "code",
      "metadata": {
        "colab": {
          "base_uri": "https://localhost:8080/",
          "height": 283
        },
        "id": "InOT9y7ew6Br",
        "outputId": "7030229c-a6d9-4342-a579-d315c5a03e3c"
      },
      "source": [
        "import matplotlib.pyplot as plt\n",
        "plt.plot(df1)"
      ],
      "execution_count": null,
      "outputs": [
        {
          "output_type": "execute_result",
          "data": {
            "text/plain": [
              "[<matplotlib.lines.Line2D at 0x7f3135a3f210>]"
            ]
          },
          "metadata": {
            "tags": []
          },
          "execution_count": 38
        },
        {
          "output_type": "display_data",
          "data": {
            "image/png": "[encoded data removed]",
            "text/plain": [
              "<Figure size 432x288 with 1 Axes>"
            ]
          },
          "metadata": {
            "tags": [],
            "needs_background": "light"
          }
        }
      ]
    },
    {
      "cell_type": "code",
      "metadata": {
        "id": "bz6LqULYw6Bs"
      },
      "source": [
        "### LSTM are sensitive to the scale of the data. so we apply MinMax scaler "
      ],
      "execution_count": null,
      "outputs": []
    },
    {
      "cell_type": "code",
      "metadata": {
        "id": "GFoX8uE7w6Bs"
      },
      "source": [
        "import numpy as np"
      ],
      "execution_count": null,
      "outputs": []
    },
    {
      "cell_type": "code",
      "metadata": {
        "colab": {
          "base_uri": "https://localhost:8080/"
        },
        "id": "59G5uGy7w6Bs",
        "outputId": "d7d66dbb-3b3e-4188-8a0e-b218d1b94297"
      },
      "source": [
        "df1"
      ],
      "execution_count": null,
      "outputs": [
        {
          "output_type": "execute_result",
          "data": {
            "text/plain": [
              "0        96.69\n",
              "1       100.53\n",
              "2       100.75\n",
              "3       101.50\n",
              "4       103.01\n",
              "         ...  \n",
              "1254    126.00\n",
              "1255    125.86\n",
              "1256    125.35\n",
              "1257    120.99\n",
              "1258    121.26\n",
              "Name: close, Length: 1259, dtype: float64"
            ]
          },
          "metadata": {
            "tags": []
          },
          "execution_count": 41
        }
      ]
    },
    {
      "cell_type": "code",
      "metadata": {
        "id": "mnAG51J9w6Bt"
      },
      "source": [
        "from sklearn.preprocessing import MinMaxScaler\n",
        "scaler=MinMaxScaler(feature_range=(0,1))\n",
        "df1=scaler.fit_transform(np.array(df1).reshape(-1,1))"
      ],
      "execution_count": null,
      "outputs": []
    },
    {
      "cell_type": "code",
      "metadata": {
        "colab": {
          "base_uri": "https://localhost:8080/"
        },
        "id": "AUKGuwDgw6Bt",
        "outputId": "d02f958c-62d8-4f12-cf26-7f853d34456c"
      },
      "source": [
        "print(df1)"
      ],
      "execution_count": null,
      "outputs": [
        {
          "output_type": "stream",
          "text": [
            "[[0.0152736 ]\n",
            " [0.02450992]\n",
            " [0.02503909]\n",
            " ...\n",
            " [0.08420926]\n",
            " [0.07372219]\n",
            " [0.07437162]]\n"
          ],
          "name": "stdout"
        }
      ]
    },
    {
      "cell_type": "code",
      "metadata": {
        "id": "vckRclmTw6Bu"
      },
      "source": [
        "##splitting dataset into train and test split\n",
        "training_size=int(len(df1)*0.65)\n",
        "test_size=len(df1)-training_size\n",
        "train_data,test_data=df1[0:training_size,:],df1[training_size:len(df1),:1]"
      ],
      "execution_count": null,
      "outputs": []
    },
    {
      "cell_type": "code",
      "metadata": {
        "colab": {
          "base_uri": "https://localhost:8080/"
        },
        "id": "b9tkdmlNw6Bu",
        "outputId": "3680881b-e102-427e-a1e4-24a1aa22f07b"
      },
      "source": [
        "training_size,test_size"
      ],
      "execution_count": null,
      "outputs": [
        {
          "output_type": "execute_result",
          "data": {
            "text/plain": [
              "(818, 441)"
            ]
          },
          "metadata": {
            "tags": []
          },
          "execution_count": 46
        }
      ]
    },
    {
      "cell_type": "code",
      "metadata": {
        "colab": {
          "base_uri": "https://localhost:8080/"
        },
        "id": "N1R__9Fxw6Bu",
        "outputId": "092fa44b-d191-4687-a7a3-d2dadfa4922e"
      },
      "source": [
        "train_data"
      ],
      "execution_count": null,
      "outputs": [
        {
          "output_type": "execute_result",
          "data": {
            "text/plain": [
              "array([[0.0152736 ],\n",
              "       [0.02450992],\n",
              "       [0.02503909],\n",
              "       [0.02684305],\n",
              "       [0.03047505],\n",
              "       [0.02773301],\n",
              "       [0.02571257],\n",
              "       [0.02592904],\n",
              "       [0.02604931],\n",
              "       [0.02867108],\n",
              "       [0.02929645],\n",
              "       [0.03425135],\n",
              "       [0.03759471],\n",
              "       [0.03718581],\n",
              "       [0.03747444],\n",
              "       [0.03745039],\n",
              "       [0.03939868],\n",
              "       [0.03797956],\n",
              "       [0.03687312],\n",
              "       [0.03571858],\n",
              "       [0.04170776],\n",
              "       [0.04622971],\n",
              "       [0.04485869],\n",
              "       [0.04726398],\n",
              "       [0.04998196],\n",
              "       [0.04683103],\n",
              "       [0.04959711],\n",
              "       [0.04377631],\n",
              "       [0.04406494],\n",
              "       [0.04493085],\n",
              "       [0.04834636],\n",
              "       [0.05219483],\n",
              "       [0.05233915],\n",
              "       [0.04692724],\n",
              "       [0.0412267 ],\n",
              "       [0.03985568],\n",
              "       [0.04038485],\n",
              "       [0.03759471],\n",
              "       [0.03689717],\n",
              "       [0.035454  ],\n",
              "       [0.03369814],\n",
              "       [0.01799158],\n",
              "       [0.01079976],\n",
              "       [0.00817799],\n",
              "       [0.00793746],\n",
              "       [0.01164161],\n",
              "       [0.00926037],\n",
              "       [0.00697535],\n",
              "       [0.00572459],\n",
              "       [0.00589296],\n",
              "       [0.0074083 ],\n",
              "       [0.00521948],\n",
              "       [0.        ],\n",
              "       [0.00043295],\n",
              "       [0.00851473],\n",
              "       [0.00757667],\n",
              "       [0.01015033],\n",
              "       [0.00928443],\n",
              "       [0.01173782],\n",
              "       [0.01464823],\n",
              "       [0.018184  ],\n",
              "       [0.02232111],\n",
              "       [0.02422129],\n",
              "       [0.02407697],\n",
              "       [0.02289838],\n",
              "       [0.01953097],\n",
              "       [0.01775105],\n",
              "       [0.01823211],\n",
              "       [0.01993987],\n",
              "       [0.02090198],\n",
              "       [0.02068551],\n",
              "       [0.02239327],\n",
              "       [0.02042093],\n",
              "       [0.01683704],\n",
              "       [0.01712568],\n",
              "       [0.01635598],\n",
              "       [0.01734215],\n",
              "       [0.01200241],\n",
              "       [0.01144919],\n",
              "       [0.01339747],\n",
              "       [0.01253157],\n",
              "       [0.01385448],\n",
              "       [0.00736019],\n",
              "       [0.004089  ],\n",
              "       [0.0078172 ],\n",
              "       [0.00976548],\n",
              "       [0.01265183],\n",
              "       [0.01334937],\n",
              "       [0.01118461],\n",
              "       [0.01248346],\n",
              "       [0.01346963],\n",
              "       [0.01524955],\n",
              "       [0.01597114],\n",
              "       [0.01702946],\n",
              "       [0.01570655],\n",
              "       [0.02032471],\n",
              "       [0.02030066],\n",
              "       [0.02282622],\n",
              "       [0.02292243],\n",
              "       [0.02313891],\n",
              "       [0.0218641 ],\n",
              "       [0.02001203],\n",
              "       [0.01683704],\n",
              "       [0.0152255 ],\n",
              "       [0.03033073],\n",
              "       [0.03367408],\n",
              "       [0.0333614 ],\n",
              "       [0.03778713],\n",
              "       [0.03401082],\n",
              "       [0.03716176],\n",
              "       [0.03735418],\n",
              "       [0.0412267 ],\n",
              "       [0.04336741],\n",
              "       [0.04442574],\n",
              "       [0.04247745],\n",
              "       [0.04230908],\n",
              "       [0.0429104 ],\n",
              "       [0.04603728],\n",
              "       [0.04579675],\n",
              "       [0.04541191],\n",
              "       [0.04507517],\n",
              "       [0.04574865],\n",
              "       [0.04370415],\n",
              "       [0.04452195],\n",
              "       [0.04254961],\n",
              "       [0.04144317],\n",
              "       [0.03992784],\n",
              "       [0.03963921],\n",
              "       [0.03766687],\n",
              "       [0.0379074 ],\n",
              "       [0.03942273],\n",
              "       [0.04182802],\n",
              "       [0.04175586],\n",
              "       [0.04334336],\n",
              "       [0.03651233],\n",
              "       [0.03076368],\n",
              "       [0.0363199 ],\n",
              "       [0.04235719],\n",
              "       [0.0515454 ],\n",
              "       [0.06068551],\n",
              "       [0.05912207],\n",
              "       [0.05589898],\n",
              "       [0.05587492],\n",
              "       [0.05582682],\n",
              "       [0.05840048],\n",
              "       [0.05380637],\n",
              "       [0.05421527],\n",
              "       [0.05472038],\n",
              "       [0.05678894],\n",
              "       [0.05253157],\n",
              "       [0.05462417],\n",
              "       [0.05334937],\n",
              "       [0.05450391],\n",
              "       [0.05462417],\n",
              "       [0.05664462],\n",
              "       [0.05705352],\n",
              "       [0.06184005],\n",
              "       [0.06244137],\n",
              "       [0.06494287],\n",
              "       [0.06407697],\n",
              "       [0.06564041],\n",
              "       [0.06544799],\n",
              "       [0.06525556],\n",
              "       [0.06441371],\n",
              "       [0.06426939],\n",
              "       [0.06316296],\n",
              "       [0.06568851],\n",
              "       [0.06713169],\n",
              "       [0.06073361],\n",
              "       [0.05806374],\n",
              "       [0.05623572],\n",
              "       [0.05580277],\n",
              "       [0.05087192],\n",
              "       [0.05111245],\n",
              "       [0.04687913],\n",
              "       [0.0444979 ],\n",
              "       [0.0482742 ],\n",
              "       [0.04983764],\n",
              "       [0.04940469],\n",
              "       [0.04197234],\n",
              "       [0.04351173],\n",
              "       [0.03696933],\n",
              "       [0.04033674],\n",
              "       [0.04726398],\n",
              "       [0.04716777],\n",
              "       [0.04743235],\n",
              "       [0.05144919],\n",
              "       [0.05161756],\n",
              "       [0.05024654],\n",
              "       [0.05159351],\n",
              "       [0.05106434],\n",
              "       [0.05079976],\n",
              "       [0.04853879],\n",
              "       [0.04606133],\n",
              "       [0.0470475 ],\n",
              "       [0.04514732],\n",
              "       [0.04716777],\n",
              "       [0.04976548],\n",
              "       [0.05238725],\n",
              "       [0.05678894],\n",
              "       [0.0552255 ],\n",
              "       [0.0597715 ],\n",
              "       [0.0597715 ],\n",
              "       [0.06128683],\n",
              "       [0.06164762],\n",
              "       [0.06325917],\n",
              "       [0.06400481],\n",
              "       [0.06426939],\n",
              "       [0.06241732],\n",
              "       [0.06297054],\n",
              "       [0.06475045],\n",
              "       [0.06354781],\n",
              "       [0.06347565],\n",
              "       [0.06128683],\n",
              "       [0.06208058],\n",
              "       [0.06176789],\n",
              "       [0.06318701],\n",
              "       [0.06631389],\n",
              "       [0.06891161],\n",
              "       [0.06920024],\n",
              "       [0.07073963],\n",
              "       [0.06953698],\n",
              "       [0.06903187],\n",
              "       [0.07134095],\n",
              "       [0.0713169 ],\n",
              "       [0.07081179],\n",
              "       [0.07134095],\n",
              "       [0.07153337],\n",
              "       [0.07126879],\n",
              "       [0.0758629 ],\n",
              "       [0.07600722],\n",
              "       [0.07603127],\n",
              "       [0.07526158],\n",
              "       [0.07458809],\n",
              "       [0.09238725],\n",
              "       [0.09185809],\n",
              "       [0.093181  ],\n",
              "       [0.0960914 ],\n",
              "       [0.09907396],\n",
              "       [0.10030066],\n",
              "       [0.10121467],\n",
              "       [0.10049308],\n",
              "       [0.10330728],\n",
              "       [0.10746843],\n",
              "       [0.10864702],\n",
              "       [0.10825015],\n",
              "       [0.10915213],\n",
              "       [0.11150932],\n",
              "       [0.11249549],\n",
              "       [0.11110042],\n",
              "       [0.11141311],\n",
              "       [0.11206254],\n",
              "       [0.11220686],\n",
              "       [0.11894167],\n",
              "       [0.11694528],\n",
              "       [0.11891762],\n",
              "       [0.11785929],\n",
              "       [0.11829224],\n",
              "       [0.11704149],\n",
              "       [0.1162718 ],\n",
              "       [0.11737823],\n",
              "       [0.11752255],\n",
              "       [0.11701744],\n",
              "       [0.12055322],\n",
              "       [0.12110643],\n",
              "       [0.11942273],\n",
              "       [0.12295851],\n",
              "       [0.11906194],\n",
              "       [0.1228623 ],\n",
              "       [0.12165965],\n",
              "       [0.12098617],\n",
              "       [0.12156344],\n",
              "       [0.12858689],\n",
              "       [0.12935658],\n",
              "       [0.12889958],\n",
              "       [0.12825015],\n",
              "       [0.12834636],\n",
              "       [0.13092002],\n",
              "       [0.12911606],\n",
              "       [0.12825015],\n",
              "       [0.12748046],\n",
              "       [0.12707156],\n",
              "       [0.12336741],\n",
              "       [0.12377631],\n",
              "       [0.12197234],\n",
              "       [0.12384847],\n",
              "       [0.12233313],\n",
              "       [0.12108238],\n",
              "       [0.12531569],\n",
              "       [0.12490679],\n",
              "       [0.12820204],\n",
              "       [0.13034275],\n",
              "       [0.12829826],\n",
              "       [0.12856284],\n",
              "       [0.1282261 ],\n",
              "       [0.1352736 ],\n",
              "       [0.13751052],\n",
              "       [0.13642814],\n",
              "       [0.13515334],\n",
              "       [0.1409982 ],\n",
              "       [0.15073963],\n",
              "       [0.15309681],\n",
              "       [0.15134095],\n",
              "       [0.1530006 ],\n",
              "       [0.15817198],\n",
              "       [0.15720986],\n",
              "       [0.15665664],\n",
              "       [0.14410102],\n",
              "       [0.14960914],\n",
              "       [0.15085989],\n",
              "       [0.15309681],\n",
              "       [0.15263981],\n",
              "       [0.15153337],\n",
              "       [0.15280818],\n",
              "       [0.1521828 ],\n",
              "       [0.15232712],\n",
              "       [0.1501383 ],\n",
              "       [0.15114853],\n",
              "       [0.15660854],\n",
              "       [0.1529525 ],\n",
              "       [0.15420325],\n",
              "       [0.15641612],\n",
              "       [0.1555021 ],\n",
              "       [0.1410463 ],\n",
              "       [0.13248346],\n",
              "       [0.13529765],\n",
              "       [0.13185809],\n",
              "       [0.12976548],\n",
              "       [0.12490679],\n",
              "       [0.13469633],\n",
              "       [0.13149729],\n",
              "       [0.13356584],\n",
              "       [0.13298857],\n",
              "       [0.13455201],\n",
              "       [0.13344558],\n",
              "       [0.12841852],\n",
              "       [0.13346963],\n",
              "       [0.12829826],\n",
              "       [0.12911606],\n",
              "       [0.1278653 ],\n",
              "       [0.12928443],\n",
              "       [0.12601323],\n",
              "       [0.1295009 ],\n",
              "       [0.13161756],\n",
              "       [0.13274805],\n",
              "       [0.13325316],\n",
              "       [0.1381359 ],\n",
              "       [0.14119062],\n",
              "       [0.14244137],\n",
              "       [0.14369212],\n",
              "       [0.1459531 ],\n",
              "       [0.1443175 ],\n",
              "       [0.14414913],\n",
              "       [0.14852676],\n",
              "       [0.1500902 ],\n",
              "       [0.15182201],\n",
              "       [0.14484666],\n",
              "       [0.14229705],\n",
              "       [0.14044498],\n",
              "       [0.14361996],\n",
              "       [0.16067348],\n",
              "       [0.15689717],\n",
              "       [0.15886951],\n",
              "       [0.16469032],\n",
              "       [0.16774504],\n",
              "       [0.17010222],\n",
              "       [0.15629585],\n",
              "       [0.16149128],\n",
              "       [0.16719182],\n",
              "       [0.17140108],\n",
              "       [0.16983764],\n",
              "       [0.16240529],\n",
              "       [0.16153939],\n",
              "       [0.16084185],\n",
              "       [0.16702345],\n",
              "       [0.16750451],\n",
              "       [0.16579675],\n",
              "       [0.16721587],\n",
              "       [0.17108839],\n",
              "       [0.17455201],\n",
              "       [0.17561034],\n",
              "       [0.17717378],\n",
              "       [0.17729405],\n",
              "       [0.17255562],\n",
              "       [0.17214672],\n",
              "       [0.17058328],\n",
              "       [0.16425737],\n",
              "       [0.17116055],\n",
              "       [0.16962117],\n",
              "       [0.16671076],\n",
              "       [0.16341551],\n",
              "       [0.16726398],\n",
              "       [0.16435358],\n",
              "       [0.1644979 ],\n",
              "       [0.15809982],\n",
              "       [0.15165364],\n",
              "       [0.1480457 ],\n",
              "       [0.14482261],\n",
              "       [0.15105232],\n",
              "       [0.15367408],\n",
              "       [0.15138906],\n",
              "       [0.1534095 ],\n",
              "       [0.15266386],\n",
              "       [0.15427541],\n",
              "       [0.15187011],\n",
              "       [0.15646422],\n",
              "       [0.15624775],\n",
              "       [0.1575466 ],\n",
              "       [0.15769092],\n",
              "       [0.15925436],\n",
              "       [0.15793145],\n",
              "       [0.16031269],\n",
              "       [0.16726398],\n",
              "       [0.1686831 ],\n",
              "       [0.16697535],\n",
              "       [0.15788334],\n",
              "       [0.15853277],\n",
              "       [0.15834035],\n",
              "       [0.16057727],\n",
              "       [0.15891762],\n",
              "       [0.16132291],\n",
              "       [0.17488876],\n",
              "       [0.18371618],\n",
              "       [0.18929645],\n",
              "       [0.18412508],\n",
              "       [0.18705953],\n",
              "       [0.19761876],\n",
              "       [0.20182802],\n",
              "       [0.20317498],\n",
              "       [0.20661455],\n",
              "       [0.20574865],\n",
              "       [0.20283824],\n",
              "       [0.20115454],\n",
              "       [0.19482862],\n",
              "       [0.18939266],\n",
              "       [0.19425135],\n",
              "       [0.19196633],\n",
              "       [0.19155743],\n",
              "       [0.19915815],\n",
              "       [0.20353578],\n",
              "       [0.20355983],\n",
              "       [0.20144317],\n",
              "       [0.19898978],\n",
              "       [0.19035478],\n",
              "       [0.19605532],\n",
              "       [0.19413109],\n",
              "       [0.19112447],\n",
              "       [0.19073963],\n",
              "       [0.18922429],\n",
              "       [0.18996993],\n",
              "       [0.1900902 ],\n",
              "       [0.19802766],\n",
              "       [0.19569453],\n",
              "       [0.19706554],\n",
              "       [0.19694528],\n",
              "       [0.20115454],\n",
              "       [0.2070475 ],\n",
              "       [0.20252556],\n",
              "       [0.20206855],\n",
              "       [0.20365604],\n",
              "       [0.20365604],\n",
              "       [0.19297655],\n",
              "       [0.19304871],\n",
              "       [0.19420325],\n",
              "       [0.18975346],\n",
              "       [0.19704149],\n",
              "       [0.19696933],\n",
              "       [0.19889357],\n",
              "       [0.20363199],\n",
              "       [0.20206855],\n",
              "       [0.20202044],\n",
              "       [0.20192423],\n",
              "       [0.20430547],\n",
              "       [0.20865905],\n",
              "       [0.20649429],\n",
              "       [0.21349369],\n",
              "       [0.21387853],\n",
              "       [0.2119543 ],\n",
              "       [0.20844257],\n",
              "       [0.20853879],\n",
              "       [0.20175586],\n",
              "       [0.19427541],\n",
              "       [0.19523752],\n",
              "       [0.18669874],\n",
              "       [0.1843175 ],\n",
              "       [0.18542393],\n",
              "       [0.18626578],\n",
              "       [0.16875526],\n",
              "       [0.15911004],\n",
              "       [0.17484065],\n",
              "       [0.16644618],\n",
              "       [0.15588695],\n",
              "       [0.15891762],\n",
              "       [0.17407096],\n",
              "       [0.17799158],\n",
              "       [0.18527962],\n",
              "       [0.19879735],\n",
              "       [0.19745039],\n",
              "       [0.19605532],\n",
              "       [0.19417919],\n",
              "       [0.19761876],\n",
              "       [0.20483464],\n",
              "       [0.213181  ],\n",
              "       [0.21178593],\n",
              "       [0.2111365 ],\n",
              "       [0.20363199],\n",
              "       [0.20654239],\n",
              "       [0.20800962],\n",
              "       [0.20764883],\n",
              "       [0.20370415],\n",
              "       [0.20829826],\n",
              "       [0.21561034],\n",
              "       [0.21979555],\n",
              "       [0.21558629],\n",
              "       [0.21190619],\n",
              "       [0.2124113 ],\n",
              "       [0.21089597],\n",
              "       [0.20435358],\n",
              "       [0.20420926],\n",
              "       [0.19466025],\n",
              "       [0.18883945],\n",
              "       [0.17943476],\n",
              "       [0.19826819],\n",
              "       [0.18761275],\n",
              "       [0.18313891],\n",
              "       [0.18626578],\n",
              "       [0.18361996],\n",
              "       [0.18773301],\n",
              "       [0.19547805],\n",
              "       [0.19834035],\n",
              "       [0.18770896],\n",
              "       [0.1917258 ],\n",
              "       [0.19942273],\n",
              "       [0.19747444],\n",
              "       [0.20156344],\n",
              "       [0.20298256],\n",
              "       [0.20560433],\n",
              "       [0.21142514],\n",
              "       [0.21046302],\n",
              "       [0.19834035],\n",
              "       [0.18131088],\n",
              "       [0.18015634],\n",
              "       [0.17462417],\n",
              "       [0.17633193],\n",
              "       [0.17770295],\n",
              "       [0.17313289],\n",
              "       [0.18020445],\n",
              "       [0.18944077],\n",
              "       [0.2074083 ],\n",
              "       [0.20817799],\n",
              "       [0.22487072],\n",
              "       [0.22806975],\n",
              "       [0.23021046],\n",
              "       [0.2333614 ],\n",
              "       [0.23980758],\n",
              "       [0.2363199 ],\n",
              "       [0.23526158],\n",
              "       [0.23114853],\n",
              "       [0.23533373],\n",
              "       [0.23247144],\n",
              "       [0.23083584],\n",
              "       [0.23401082],\n",
              "       [0.23288034],\n",
              "       [0.23576669],\n",
              "       [0.23526158],\n",
              "       [0.23629585],\n",
              "       [0.23466025],\n",
              "       [0.23369814],\n",
              "       [0.2321828 ],\n",
              "       [0.24028863],\n",
              "       [0.24411305],\n",
              "       [0.24767288],\n",
              "       [0.24928443],\n",
              "       [0.24803367],\n",
              "       [0.24380036],\n",
              "       [0.24266987],\n",
              "       [0.24519543],\n",
              "       [0.24139507],\n",
              "       [0.2416356 ],\n",
              "       [0.23692123],\n",
              "       [0.2366807 ],\n",
              "       [0.22934456],\n",
              "       [0.23129284],\n",
              "       [0.22879134],\n",
              "       [0.22749248],\n",
              "       [0.22087793],\n",
              "       [0.22631389],\n",
              "       [0.22566446],\n",
              "       [0.22888755],\n",
              "       [0.22794949],\n",
              "       [0.23292844],\n",
              "       [0.22508719],\n",
              "       [0.22864702],\n",
              "       [0.23482862],\n",
              "       [0.24110643],\n",
              "       [0.24055322],\n",
              "       [0.23461215],\n",
              "       [0.24218882],\n",
              "       [0.2429104 ],\n",
              "       [0.24190018],\n",
              "       [0.24319904],\n",
              "       [0.24067348],\n",
              "       [0.24423331],\n",
              "       [0.24317498],\n",
              "       [0.24358388],\n",
              "       [0.24692724],\n",
              "       [0.25130487],\n",
              "       [0.24983764],\n",
              "       [0.24206855],\n",
              "       [0.23949489],\n",
              "       [0.2404089 ],\n",
              "       [0.26737222],\n",
              "       [0.28153939],\n",
              "       [0.28298256],\n",
              "       [0.28558028],\n",
              "       [0.2808659 ],\n",
              "       [0.28120265],\n",
              "       [0.28512327],\n",
              "       [0.28187613],\n",
              "       [0.28509922],\n",
              "       [0.28721587],\n",
              "       [0.28839447],\n",
              "       [0.29580277],\n",
              "       [0.30604931],\n",
              "       [0.30095009],\n",
              "       [0.29993987],\n",
              "       [0.29996392],\n",
              "       [0.30102225],\n",
              "       [0.30263379],\n",
              "       [0.30691521],\n",
              "       [0.31114853],\n",
              "       [0.31903788],\n",
              "       [0.32396873],\n",
              "       [0.33022249],\n",
              "       [0.33197835],\n",
              "       [0.32839447],\n",
              "       [0.31932652],\n",
              "       [0.31499699],\n",
              "       [0.30785328],\n",
              "       [0.32113049],\n",
              "       [0.31444378],\n",
              "       [0.32728803],\n",
              "       [0.32110643],\n",
              "       [0.3067709 ],\n",
              "       [0.3076368 ],\n",
              "       [0.30794949],\n",
              "       [0.31194227],\n",
              "       [0.30624173],\n",
              "       [0.31377029],\n",
              "       [0.3171377 ],\n",
              "       [0.31288034],\n",
              "       [0.32377631],\n",
              "       [0.32567649],\n",
              "       [0.32933253],\n",
              "       [0.33419122],\n",
              "       [0.34090198],\n",
              "       [0.33108839],\n",
              "       [0.32218882],\n",
              "       [0.32093806],\n",
              "       [0.32839447],\n",
              "       [0.30311485],\n",
              "       [0.29852075],\n",
              "       [0.31694528],\n",
              "       [0.30552014],\n",
              "       [0.31704149],\n",
              "       [0.31473241],\n",
              "       [0.30229705],\n",
              "       [0.31021046],\n",
              "       [0.31343355],\n",
              "       [0.31843656],\n",
              "       [0.30006013],\n",
              "       [0.31138906],\n",
              "       [0.30297054],\n",
              "       [0.29320505],\n",
              "       [0.29575466],\n",
              "       [0.30912808],\n",
              "       [0.31720986],\n",
              "       [0.28175586],\n",
              "       [0.2675887 ],\n",
              "       [0.27283223],\n",
              "       [0.28769693],\n",
              "       [0.28418521],\n",
              "       [0.27451594],\n",
              "       [0.24974143],\n",
              "       [0.24507517],\n",
              "       [0.23201443],\n",
              "       [0.24310283],\n",
              "       [0.24820204],\n",
              "       [0.22975346],\n",
              "       [0.20839447],\n",
              "       [0.20791341],\n",
              "       [0.19711365],\n",
              "       [0.20271798],\n",
              "       [0.20180397],\n",
              "       [0.21791942],\n",
              "       [0.21457607],\n",
              "       [0.21224293],\n",
              "       [0.22725195],\n",
              "       [0.20769693],\n",
              "       [0.20295851],\n",
              "       [0.18797354],\n",
              "       [0.19064342],\n",
              "       [0.18831028],\n",
              "       [0.18944077],\n",
              "       [0.19389056],\n",
              "       [0.18073361],\n",
              "       [0.17702946],\n",
              "       [0.18215274],\n",
              "       [0.16969333],\n",
              "       [0.15992784],\n",
              "       [0.14525556],\n",
              "       [0.13587492],\n",
              "       [0.16074564],\n",
              "       [0.15829224],\n",
              "       [0.15848467],\n",
              "       [0.16211666],\n",
              "       [0.16254961],\n",
              "       [0.12471437],\n",
              "       [0.13931449],\n",
              "       [0.13852075],\n",
              "       [0.14530367],\n",
              "       [0.15146121],\n",
              "       [0.15263981],\n",
              "       [0.14900782],\n",
              "       [0.1434997 ],\n",
              "       [0.15088394],\n",
              "       [0.15538184],\n",
              "       [0.15759471],\n",
              "       [0.15990379],\n",
              "       [0.15143716],\n",
              "       [0.15292844],\n",
              "       [0.14999399],\n",
              "       [0.16216476],\n",
              "       [0.15865304],\n",
              "       [0.15475646],\n",
              "       [0.1801804 ],\n",
              "       [0.18304269],\n",
              "       [0.18323512],\n",
              "       [0.19461215],\n",
              "       [0.20165965],\n",
              "       [0.20180397],\n",
              "       [0.19386651],\n",
              "       [0.1925917 ],\n",
              "       [0.19023452],\n",
              "       [0.19374624],\n",
              "       [0.19203848],\n",
              "       [0.19352977],\n",
              "       [0.19261575],\n",
              "       [0.19384245],\n",
              "       [0.19648827],\n",
              "       [0.19415514],\n",
              "       [0.19874925],\n",
              "       [0.20177992],\n",
              "       [0.20202044],\n",
              "       [0.2033193 ],\n",
              "       [0.1991822 ],\n",
              "       [0.20355983],\n",
              "       [0.20567649],\n",
              "       [0.20490679],\n",
              "       [0.20247745],\n",
              "       [0.19761876],\n",
              "       [0.19860493],\n",
              "       [0.21301263],\n",
              "       [0.21784726],\n",
              "       [0.2197715 ],\n",
              "       [0.22463019],\n",
              "       [0.23037883],\n",
              "       [0.23494889],\n",
              "       [0.231365  ],\n",
              "       [0.23528563],\n",
              "       [0.2519543 ],\n",
              "       [0.24223692],\n",
              "       [0.2366807 ],\n",
              "       [0.23199038],\n",
              "       [0.23603127],\n",
              "       [0.23663259],\n",
              "       [0.2395911 ],\n",
              "       [0.24269393],\n",
              "       [0.24938064],\n",
              "       [0.25257968],\n",
              "       [0.25339747],\n",
              "       [0.25654841],\n",
              "       [0.26400481],\n",
              "       [0.26256164],\n",
              "       [0.26525556],\n",
              "       [0.26123873],\n",
              "       [0.2610463 ],\n",
              "       [0.26191221],\n",
              "       [0.26196031],\n",
              "       [0.27129284],\n",
              "       [0.27304871],\n",
              "       [0.27466025],\n",
              "       [0.28175586],\n",
              "       [0.28098617],\n",
              "       [0.27646422],\n",
              "       [0.27410704],\n",
              "       [0.27485268],\n",
              "       [0.26537583],\n",
              "       [0.28906795],\n",
              "       [0.2857727 ],\n",
              "       [0.29202646],\n",
              "       [0.28416115],\n",
              "       [0.27064342],\n",
              "       [0.27073963],\n",
              "       [0.26549609],\n",
              "       [0.25698136],\n",
              "       [0.22941672],\n",
              "       [0.23648827],\n",
              "       [0.24192423],\n",
              "       [0.23990379],\n",
              "       [0.23730607],\n",
              "       [0.2230908 ],\n",
              "       [0.23153337],\n",
              "       [0.22234516],\n",
              "       [0.21484065],\n",
              "       [0.213181  ],\n",
              "       [0.21140108],\n",
              "       [0.20935658]])"
            ]
          },
          "metadata": {
            "tags": []
          },
          "execution_count": 45
        }
      ]
    },
    {
      "cell_type": "code",
      "metadata": {
        "id": "xkuFBpC1w6Bu"
      },
      "source": [
        "import numpy\n",
        "# convert an array of values into a dataset matrix\n",
        "def create_dataset(dataset, time_step=1):\n",
        "\tdataX, dataY = [], []\n",
        "\tfor i in range(len(dataset)-time_step-1):\n",
        "\t\ta = dataset[i:(i+time_step), 0]   ###i=0, 0,1,2,3-----99   100 \n",
        "\t\tdataX.append(a)\n",
        "\t\tdataY.append(dataset[i + time_step, 0])\n",
        "\treturn numpy.array(dataX), numpy.array(dataY)"
      ],
      "execution_count": null,
      "outputs": []
    },
    {
      "cell_type": "code",
      "metadata": {
        "id": "rNBtn_svw6Bu"
      },
      "source": [
        "# reshape into X=t,t+1,t+2,t+3 and Y=t+4\n",
        "time_step = 100\n",
        "X_train, y_train = create_dataset(train_data, time_step)\n",
        "X_test, ytest = create_dataset(test_data, time_step)"
      ],
      "execution_count": null,
      "outputs": []
    },
    {
      "cell_type": "code",
      "metadata": {
        "colab": {
          "base_uri": "https://localhost:8080/",
          "height": 172
        },
        "id": "6Z45uTC2w6Bu",
        "outputId": "cd64cfcf-c724-4c9c-c872-46e58069d92b"
      },
      "source": [
        "print(X_train.shape), print(y_train.shape)"
      ],
      "execution_count": null,
      "outputs": [
        {
          "output_type": "error",
          "ename": "NameError",
          "evalue": "ignored",
          "traceback": [
            "\u001b[0;31m---------------------------------------------------------------------------\u001b[0m",
            "\u001b[0;31mNameError\u001b[0m                                 Traceback (most recent call last)",
            "\u001b[0;32m<ipython-input-16-425f77d5ceed>\u001b[0m in \u001b[0;36m<module>\u001b[0;34m()\u001b[0m\n\u001b[0;32m----> 1\u001b[0;31m \u001b[0mprint\u001b[0m\u001b[0;34m(\u001b[0m\u001b[0mX_train\u001b[0m\u001b[0;34m.\u001b[0m\u001b[0mshape\u001b[0m\u001b[0;34m)\u001b[0m\u001b[0;34m,\u001b[0m \u001b[0mprint\u001b[0m\u001b[0;34m(\u001b[0m\u001b[0my_train\u001b[0m\u001b[0;34m.\u001b[0m\u001b[0mshape\u001b[0m\u001b[0;34m)\u001b[0m\u001b[0;34m\u001b[0m\u001b[0;34m\u001b[0m\u001b[0m\n\u001b[0m",
            "\u001b[0;31mNameError\u001b[0m: name 'X_train' is not defined"
          ]
        }
      ]
    },
    {
      "cell_type": "code",
      "metadata": {
        "colab": {
          "base_uri": "https://localhost:8080/"
        },
        "id": "E69WBHlgw6Bv",
        "outputId": "65292d17-9b5b-4054-c082-eb22f4daa287"
      },
      "source": [
        "print(X_test.shape), print(ytest.shape)"
      ],
      "execution_count": null,
      "outputs": [
        {
          "output_type": "stream",
          "text": [
            "(340, 100)\n",
            "(340,)\n"
          ],
          "name": "stdout"
        },
        {
          "output_type": "execute_result",
          "data": {
            "text/plain": [
              "(None, None)"
            ]
          },
          "metadata": {
            "tags": []
          },
          "execution_count": 51
        }
      ]
    },
    {
      "cell_type": "code",
      "metadata": {
        "id": "CTUaBITbw6Bv"
      },
      "source": [
        "# reshape input to be [samples, time steps, features] which is required for LSTM\n",
        "X_train =X_train.reshape(X_train.shape[0],X_train.shape[1] , 1)\n",
        "X_test = X_test.reshape(X_test.shape[0],X_test.shape[1] , 1)"
      ],
      "execution_count": null,
      "outputs": []
    },
    {
      "cell_type": "code",
      "metadata": {
        "id": "-YaIKqFQw6Bw"
      },
      "source": [
        "### Create the Stacked LSTM model\n",
        "from tensorflow.keras.models import Sequential\n",
        "from tensorflow.keras.layers import Dense\n",
        "from tensorflow.keras.layers import LSTM"
      ],
      "execution_count": null,
      "outputs": []
    },
    {
      "cell_type": "code",
      "metadata": {
        "id": "cs0z36tuw6Bw"
      },
      "source": [
        "model=Sequential()\n",
        "model.add(LSTM(50,return_sequences=True,input_shape=(100,1)))\n",
        "model.add(LSTM(50,return_sequences=True))\n",
        "model.add(LSTM(50))\n",
        "model.add(Dense(1))\n",
        "model.compile(loss='mean_squared_error',optimizer='adam')\n"
      ],
      "execution_count": null,
      "outputs": []
    },
    {
      "cell_type": "code",
      "metadata": {
        "colab": {
          "base_uri": "https://localhost:8080/"
        },
        "id": "YwghD9lDw6Bw",
        "outputId": "d1436e35-0be4-46d0-ad3f-5448decce4f3"
      },
      "source": [
        "model.summary()"
      ],
      "execution_count": null,
      "outputs": [
        {
          "output_type": "stream",
          "text": [
            "Model: \"sequential\"\n",
            "_________________________________________________________________\n",
            "Layer (type)                 Output Shape              Param #   \n",
            "=================================================================\n",
            "lstm (LSTM)                  (None, 100, 50)           10400     \n",
            "_________________________________________________________________\n",
            "lstm_1 (LSTM)                (None, 100, 50)           20200     \n",
            "_________________________________________________________________\n",
            "lstm_2 (LSTM)                (None, 50)                20200     \n",
            "_________________________________________________________________\n",
            "dense (Dense)                (None, 1)                 51        \n",
            "=================================================================\n",
            "Total params: 50,851\n",
            "Trainable params: 50,851\n",
            "Non-trainable params: 0\n",
            "_________________________________________________________________\n"
          ],
          "name": "stdout"
        }
      ]
    },
    {
      "cell_type": "code",
      "metadata": {
        "colab": {
          "base_uri": "https://localhost:8080/"
        },
        "id": "fMMndFkKw6Bw",
        "outputId": "65c5a830-c9a6-436f-ed1b-5e5533dec096"
      },
      "source": [
        "model.summary()"
      ],
      "execution_count": null,
      "outputs": [
        {
          "output_type": "stream",
          "text": [
            "Model: \"sequential\"\n",
            "_________________________________________________________________\n",
            "Layer (type)                 Output Shape              Param #   \n",
            "=================================================================\n",
            "lstm (LSTM)                  (None, 100, 50)           10400     \n",
            "_________________________________________________________________\n",
            "lstm_1 (LSTM)                (None, 100, 50)           20200     \n",
            "_________________________________________________________________\n",
            "lstm_2 (LSTM)                (None, 50)                20200     \n",
            "_________________________________________________________________\n",
            "dense (Dense)                (None, 1)                 51        \n",
            "=================================================================\n",
            "Total params: 50,851\n",
            "Trainable params: 50,851\n",
            "Non-trainable params: 0\n",
            "_________________________________________________________________\n"
          ],
          "name": "stdout"
        }
      ]
    },
    {
      "cell_type": "code",
      "metadata": {
        "id": "QsktMtSGw6Bx"
      },
      "source": [
        ""
      ],
      "execution_count": null,
      "outputs": []
    },
    {
      "cell_type": "code",
      "metadata": {
        "colab": {
          "base_uri": "https://localhost:8080/"
        },
        "id": "GqxGvX9Tw6Bx",
        "outputId": "cae2dc7d-8c69-42a3-ab30-f77af51df655"
      },
      "source": [
        "model.fit(X_train,y_train,validation_data=(X_test,ytest),epochs=100,batch_size=64,verbose=1)"
      ],
      "execution_count": null,
      "outputs": [
        {
          "output_type": "stream",
          "text": [
            "Epoch 1/100\n",
            "12/12 [==============================] - 8s 293ms/step - loss: 0.0159 - val_loss: 0.0545\n",
            "Epoch 2/100\n",
            "12/12 [==============================] - 2s 189ms/step - loss: 0.0033 - val_loss: 0.0249\n",
            "Epoch 3/100\n",
            "12/12 [==============================] - 2s 194ms/step - loss: 0.0015 - val_loss: 0.0221\n",
            "Epoch 4/100\n",
            "12/12 [==============================] - 2s 192ms/step - loss: 6.0291e-04 - val_loss: 0.0201\n",
            "Epoch 5/100\n",
            "12/12 [==============================] - 2s 187ms/step - loss: 4.3529e-04 - val_loss: 0.0197\n",
            "Epoch 6/100\n",
            " 3/12 [======>.......................] - ETA: 1s - loss: 3.9708e-04"
          ],
          "name": "stdout"
        }
      ]
    },
    {
      "cell_type": "code",
      "metadata": {
        "id": "d8FB8kedw6Bx"
      },
      "source": [
        "import tensorflow as tf"
      ],
      "execution_count": null,
      "outputs": []
    },
    {
      "cell_type": "code",
      "metadata": {
        "id": "Ot5ktqVaw6Bx",
        "outputId": "0c20825f-9ce4-4648-8e5f-efda8bfb929e"
      },
      "source": [
        "tf.__version__"
      ],
      "execution_count": null,
      "outputs": [
        {
          "output_type": "execute_result",
          "data": {
            "text/plain": [
              "'2.1.0'"
            ]
          },
          "metadata": {
            "tags": []
          },
          "execution_count": 39
        }
      ]
    },
    {
      "cell_type": "code",
      "metadata": {
        "id": "Ks8ghS8Ww6Bx"
      },
      "source": [
        "### Lets Do the prediction and check performance metrics\n",
        "train_predict=model.predict(X_train)\n",
        "test_predict=model.predict(X_test)"
      ],
      "execution_count": null,
      "outputs": []
    },
    {
      "cell_type": "code",
      "metadata": {
        "id": "x7LZcGyBw6By"
      },
      "source": [
        "##Transformback to original form\n",
        "train_predict=scaler.inverse_transform(train_predict)\n",
        "test_predict=scaler.inverse_transform(test_predict)"
      ],
      "execution_count": null,
      "outputs": []
    },
    {
      "cell_type": "code",
      "metadata": {
        "id": "5nD0H-Ifw6Bz",
        "outputId": "3f9204f2-1a46-4f37-de86-3fdf0c717cd6"
      },
      "source": [
        "### Calculate RMSE performance metrics\n",
        "import math\n",
        "from sklearn.metrics import mean_squared_error\n",
        "math.sqrt(mean_squared_error(y_train,train_predict))"
      ],
      "execution_count": null,
      "outputs": [
        {
          "output_type": "execute_result",
          "data": {
            "text/plain": [
              "140.9909210035748"
            ]
          },
          "metadata": {
            "tags": []
          },
          "execution_count": 434
        }
      ]
    },
    {
      "cell_type": "code",
      "metadata": {
        "id": "VQshGz3Mw6Bz",
        "outputId": "89f0377d-aa1c-4b40-a8ce-2c8cff67fba8"
      },
      "source": [
        "### Test Data RMSE\n",
        "math.sqrt(mean_squared_error(ytest,test_predict))"
      ],
      "execution_count": null,
      "outputs": [
        {
          "output_type": "execute_result",
          "data": {
            "text/plain": [
              "235.7193088627771"
            ]
          },
          "metadata": {
            "tags": []
          },
          "execution_count": 435
        }
      ]
    },
    {
      "cell_type": "code",
      "metadata": {
        "colab": {
          "base_uri": "https://localhost:8080/",
          "height": 246
        },
        "id": "7H-pa7AQw6Bz",
        "outputId": "688d0515-3d3c-44a8-8c2f-ee91e16a0550"
      },
      "source": [
        "### Plotting \n",
        "# shift train predictions for plotting\n",
        "look_back=100\n",
        "trainPredictPlot = numpy.empty_like(df1)\n",
        "trainPredictPlot[:, :] = np.nan\n",
        "trainPredictPlot[look_back:len(train_predict)+look_back, :] = train_predict\n",
        "# shift test predictions for plotting\n",
        "testPredictPlot = numpy.empty_like(df1)\n",
        "testPredictPlot[:, :] = numpy.nan\n",
        "testPredictPlot[len(train_predict)+(look_back*2)+1:len(df1)-1, :] = test_predict\n",
        "# plot baseline and predictions\n",
        "plt.plot(scaler.inverse_transform(df1))\n",
        "plt.plot(trainPredictPlot)\n",
        "plt.plot(testPredictPlot)\n",
        "plt.show()"
      ],
      "execution_count": null,
      "outputs": [
        {
          "output_type": "error",
          "ename": "NameError",
          "evalue": "ignored",
          "traceback": [
            "\u001b[0;31m---------------------------------------------------------------------------\u001b[0m",
            "\u001b[0;31mNameError\u001b[0m                                 Traceback (most recent call last)",
            "\u001b[0;32m<ipython-input-17-0fdf7ea26463>\u001b[0m in \u001b[0;36m<module>\u001b[0;34m()\u001b[0m\n\u001b[1;32m      2\u001b[0m \u001b[0;31m# shift train predictions for plotting\u001b[0m\u001b[0;34m\u001b[0m\u001b[0;34m\u001b[0m\u001b[0;34m\u001b[0m\u001b[0m\n\u001b[1;32m      3\u001b[0m \u001b[0mlook_back\u001b[0m\u001b[0;34m=\u001b[0m\u001b[0;36m100\u001b[0m\u001b[0;34m\u001b[0m\u001b[0;34m\u001b[0m\u001b[0m\n\u001b[0;32m----> 4\u001b[0;31m \u001b[0mtrainPredictPlot\u001b[0m \u001b[0;34m=\u001b[0m \u001b[0mnumpy\u001b[0m\u001b[0;34m.\u001b[0m\u001b[0mempty_like\u001b[0m\u001b[0;34m(\u001b[0m\u001b[0mdf1\u001b[0m\u001b[0;34m)\u001b[0m\u001b[0;34m\u001b[0m\u001b[0;34m\u001b[0m\u001b[0m\n\u001b[0m\u001b[1;32m      5\u001b[0m \u001b[0mtrainPredictPlot\u001b[0m\u001b[0;34m[\u001b[0m\u001b[0;34m:\u001b[0m\u001b[0;34m,\u001b[0m \u001b[0;34m:\u001b[0m\u001b[0;34m]\u001b[0m \u001b[0;34m=\u001b[0m \u001b[0mnp\u001b[0m\u001b[0;34m.\u001b[0m\u001b[0mnan\u001b[0m\u001b[0;34m\u001b[0m\u001b[0;34m\u001b[0m\u001b[0m\n\u001b[1;32m      6\u001b[0m \u001b[0mtrainPredictPlot\u001b[0m\u001b[0;34m[\u001b[0m\u001b[0mlook_back\u001b[0m\u001b[0;34m:\u001b[0m\u001b[0mlen\u001b[0m\u001b[0;34m(\u001b[0m\u001b[0mtrain_predict\u001b[0m\u001b[0;34m)\u001b[0m\u001b[0;34m+\u001b[0m\u001b[0mlook_back\u001b[0m\u001b[0;34m,\u001b[0m \u001b[0;34m:\u001b[0m\u001b[0;34m]\u001b[0m \u001b[0;34m=\u001b[0m \u001b[0mtrain_predict\u001b[0m\u001b[0;34m\u001b[0m\u001b[0;34m\u001b[0m\u001b[0m\n",
            "\u001b[0;31mNameError\u001b[0m: name 'df1' is not defined"
          ]
        }
      ]
    },
    {
      "cell_type": "code",
      "metadata": {
        "id": "Zv2g3Id2w6Bz",
        "outputId": "c8d8f1c7-e801-4e77-d6a4-fb586d3ddf32"
      },
      "source": [
        "len(test_data)"
      ],
      "execution_count": null,
      "outputs": [
        {
          "output_type": "execute_result",
          "data": {
            "text/plain": [
              "441"
            ]
          },
          "metadata": {
            "tags": []
          },
          "execution_count": 437
        }
      ]
    },
    {
      "cell_type": "code",
      "metadata": {
        "colab": {
          "base_uri": "https://localhost:8080/",
          "height": 191
        },
        "id": "tlNvWHWCw6Bz",
        "outputId": "cf403e61-d1a9-4f17-da8e-0bf530a3712b"
      },
      "source": [
        "x_input=test_data[341:].reshape(1,-1)\n",
        "x_input.shape\n"
      ],
      "execution_count": null,
      "outputs": [
        {
          "output_type": "error",
          "ename": "NameError",
          "evalue": "ignored",
          "traceback": [
            "\u001b[0;31m---------------------------------------------------------------------------\u001b[0m",
            "\u001b[0;31mNameError\u001b[0m                                 Traceback (most recent call last)",
            "\u001b[0;32m<ipython-input-18-af0073177b87>\u001b[0m in \u001b[0;36m<module>\u001b[0;34m()\u001b[0m\n\u001b[0;32m----> 1\u001b[0;31m \u001b[0mx_input\u001b[0m\u001b[0;34m=\u001b[0m\u001b[0mtest_data\u001b[0m\u001b[0;34m[\u001b[0m\u001b[0;36m341\u001b[0m\u001b[0;34m:\u001b[0m\u001b[0;34m]\u001b[0m\u001b[0;34m.\u001b[0m\u001b[0mreshape\u001b[0m\u001b[0;34m(\u001b[0m\u001b[0;36m1\u001b[0m\u001b[0;34m,\u001b[0m\u001b[0;34m-\u001b[0m\u001b[0;36m1\u001b[0m\u001b[0;34m)\u001b[0m\u001b[0;34m\u001b[0m\u001b[0;34m\u001b[0m\u001b[0m\n\u001b[0m\u001b[1;32m      2\u001b[0m \u001b[0mx_input\u001b[0m\u001b[0;34m.\u001b[0m\u001b[0mshape\u001b[0m\u001b[0;34m\u001b[0m\u001b[0;34m\u001b[0m\u001b[0m\n",
            "\u001b[0;31mNameError\u001b[0m: name 'test_data' is not defined"
          ]
        }
      ]
    },
    {
      "cell_type": "code",
      "metadata": {
        "id": "jGcaltBtw6Bz"
      },
      "source": [
        ""
      ],
      "execution_count": null,
      "outputs": []
    },
    {
      "cell_type": "code",
      "metadata": {
        "id": "4-Zklojdw6B9"
      },
      "source": [
        ""
      ],
      "execution_count": null,
      "outputs": []
    },
    {
      "cell_type": "code",
      "metadata": {
        "id": "hYL3IafJw6B9"
      },
      "source": [
        "temp_input=list(x_input)\n",
        "temp_input=temp_input[0].tolist()"
      ],
      "execution_count": null,
      "outputs": []
    },
    {
      "cell_type": "code",
      "metadata": {
        "id": "xrdI-ae9w6B-",
        "outputId": "6f9f6034-dab0-4bc6-a87a-080c6fd322b2"
      },
      "source": [
        "temp_input"
      ],
      "execution_count": null,
      "outputs": [
        {
          "output_type": "execute_result",
          "data": {
            "text/plain": [
              "[0.8583551465000423,\n",
              " 0.8866418981676942,\n",
              " 0.8743139407244789,\n",
              " 0.8843198513890065,\n",
              " 0.8783669678290975,\n",
              " 0.8986321033521913,\n",
              " 0.925821160179009,\n",
              " 0.9287764924427933,\n",
              " 0.9567677108840666,\n",
              " 0.9386979650426415,\n",
              " 0.933040614709111,\n",
              " 0.9495060373216249,\n",
              " 0.9642404796082076,\n",
              " 0.9551211686228154,\n",
              " 0.9598919192772104,\n",
              " 0.9663514312251966,\n",
              " 0.9624672802499368,\n",
              " 0.9229502659799038,\n",
              " 0.9598497002448705,\n",
              " 0.9879253567508233,\n",
              " 0.985941062230854,\n",
              " 0.9253145317909315,\n",
              " 0.9217259140420504,\n",
              " 0.964747107996285,\n",
              " 0.9757240564046274,\n",
              " 0.9915984125643842,\n",
              " 0.9697289538123788,\n",
              " 0.9761462467280253,\n",
              " 0.9679557544541082,\n",
              " 1.0000000000000002,\n",
              " 0.9901629654648318,\n",
              " 0.9905007177235499,\n",
              " 0.9653803934813816,\n",
              " 0.9848855864223593,\n",
              " 0.9708688676855528,\n",
              " 0.9402600692392133,\n",
              " 0.8774803681499621,\n",
              " 0.8348391454867856,\n",
              " 0.8541332432660644,\n",
              " 0.7733682344000676,\n",
              " 0.7726927298826314,\n",
              " 0.8801401671873683,\n",
              " 0.8400743054969182,\n",
              " 0.8967322468969012,\n",
              " 0.8552731571392387,\n",
              " 0.8388499535590646,\n",
              " 0.7423372456303303,\n",
              " 0.8232711306256861,\n",
              " 0.7814320695769654,\n",
              " 0.6665963016127672,\n",
              " 0.7921557037912694,\n",
              " 0.6411804441442204,\n",
              " 0.6861437135860848,\n",
              " 0.6600101325677616,\n",
              " 0.6520307354555435,\n",
              " 0.5864223591995272,\n",
              " 0.5658616904500551,\n",
              " 0.660896732246897,\n",
              " 0.6551549438486872,\n",
              " 0.7097019336316812,\n",
              " 0.664527569028118,\n",
              " 0.6943764248923416,\n",
              " 0.692181035210673,\n",
              " 0.6356919699400492,\n",
              " 0.6526640209406402,\n",
              " 0.637802921557038,\n",
              " 0.7267162036646122,\n",
              " 0.7138816178333194,\n",
              " 0.7419150553069325,\n",
              " 0.7500211095161702,\n",
              " 0.7722283205268936,\n",
              " 0.8304905851557884,\n",
              " 0.8194291986827664,\n",
              " 0.8289706999915563,\n",
              " 0.8125474964113824,\n",
              " 0.7877649244279323,\n",
              " 0.7516254327450818,\n",
              " 0.7842607447437306,\n",
              " 0.7797433082833742,\n",
              " 0.8132652199611587,\n",
              " 0.8141096006079542,\n",
              " 0.7947310647639958,\n",
              " 0.8333614793548934,\n",
              " 0.8589884319851391,\n",
              " 0.8390188296884238,\n",
              " 0.8562864139153934,\n",
              " 0.8748627881448958,\n",
              " 0.887824031073208,\n",
              " 0.9009541501308793,\n",
              " 0.9279321117959978,\n",
              " 0.9485349995778098,\n",
              " 0.9333361479354896,\n",
              " 0.9174617917757326,\n",
              " 0.925441188887951,\n",
              " 0.9177151059697712,\n",
              " 0.9483239044161109,\n",
              " 0.9406400405302711,\n",
              " 0.9663514312251966,\n",
              " 0.9563033015283293,\n",
              " 0.964915984125644]"
            ]
          },
          "metadata": {
            "tags": []
          },
          "execution_count": 440
        }
      ]
    },
    {
      "cell_type": "code",
      "metadata": {
        "id": "14y1BjUlw6B-",
        "outputId": "cb63ac53-7421-4561-e06e-6accd1602f13"
      },
      "source": [
        "# demonstrate prediction for next 10 days\n",
        "from numpy import array\n",
        "\n",
        "lst_output=[]\n",
        "n_steps=100\n",
        "i=0\n",
        "while(i<30):\n",
        "    \n",
        "    if(len(temp_input)>100):\n",
        "        #print(temp_input)\n",
        "        x_input=np.array(temp_input[1:])\n",
        "        print(\"{} day input {}\".format(i,x_input))\n",
        "        x_input=x_input.reshape(1,-1)\n",
        "        x_input = x_input.reshape((1, n_steps, 1))\n",
        "        #print(x_input)\n",
        "        yhat = model.predict(x_input, verbose=0)\n",
        "        print(\"{} day output {}\".format(i,yhat))\n",
        "        temp_input.extend(yhat[0].tolist())\n",
        "        temp_input=temp_input[1:]\n",
        "        #print(temp_input)\n",
        "        lst_output.extend(yhat.tolist())\n",
        "        i=i+1\n",
        "    else:\n",
        "        x_input = x_input.reshape((1, n_steps,1))\n",
        "        yhat = model.predict(x_input, verbose=0)\n",
        "        print(yhat[0])\n",
        "        temp_input.extend(yhat[0].tolist())\n",
        "        print(len(temp_input))\n",
        "        lst_output.extend(yhat.tolist())\n",
        "        i=i+1\n",
        "    \n",
        "\n",
        "print(lst_output)"
      ],
      "execution_count": null,
      "outputs": [
        {
          "output_type": "stream",
          "text": [
            "[0.94413203]\n",
            "101\n",
            "1 day input [0.8866419  0.87431394 0.88431985 0.87836697 0.8986321  0.92582116\n",
            " 0.92877649 0.95676771 0.93869797 0.93304061 0.94950604 0.96424048\n",
            " 0.95512117 0.95989192 0.96635143 0.96246728 0.92295027 0.9598497\n",
            " 0.98792536 0.98594106 0.92531453 0.92172591 0.96474711 0.97572406\n",
            " 0.99159841 0.96972895 0.97614625 0.96795575 1.         0.99016297\n",
            " 0.99050072 0.96538039 0.98488559 0.97086887 0.94026007 0.87748037\n",
            " 0.83483915 0.85413324 0.77336823 0.77269273 0.88014017 0.84007431\n",
            " 0.89673225 0.85527316 0.83884995 0.74233725 0.82327113 0.78143207\n",
            " 0.6665963  0.7921557  0.64118044 0.68614371 0.66001013 0.65203074\n",
            " 0.58642236 0.56586169 0.66089673 0.65515494 0.70970193 0.66452757\n",
            " 0.69437642 0.69218104 0.63569197 0.65266402 0.63780292 0.7267162\n",
            " 0.71388162 0.74191506 0.75002111 0.77222832 0.83049059 0.8194292\n",
            " 0.8289707  0.8125475  0.78776492 0.75162543 0.78426074 0.77974331\n",
            " 0.81326522 0.8141096  0.79473106 0.83336148 0.85898843 0.83901883\n",
            " 0.85628641 0.87486279 0.88782403 0.90095415 0.92793211 0.948535\n",
            " 0.93333615 0.91746179 0.92544119 0.91771511 0.9483239  0.94064004\n",
            " 0.96635143 0.9563033  0.96491598 0.94413203]\n",
            "1 day output [[0.9379593]]\n",
            "2 day input [0.87431394 0.88431985 0.87836697 0.8986321  0.92582116 0.92877649\n",
            " 0.95676771 0.93869797 0.93304061 0.94950604 0.96424048 0.95512117\n",
            " 0.95989192 0.96635143 0.96246728 0.92295027 0.9598497  0.98792536\n",
            " 0.98594106 0.92531453 0.92172591 0.96474711 0.97572406 0.99159841\n",
            " 0.96972895 0.97614625 0.96795575 1.         0.99016297 0.99050072\n",
            " 0.96538039 0.98488559 0.97086887 0.94026007 0.87748037 0.83483915\n",
            " 0.85413324 0.77336823 0.77269273 0.88014017 0.84007431 0.89673225\n",
            " 0.85527316 0.83884995 0.74233725 0.82327113 0.78143207 0.6665963\n",
            " 0.7921557  0.64118044 0.68614371 0.66001013 0.65203074 0.58642236\n",
            " 0.56586169 0.66089673 0.65515494 0.70970193 0.66452757 0.69437642\n",
            " 0.69218104 0.63569197 0.65266402 0.63780292 0.7267162  0.71388162\n",
            " 0.74191506 0.75002111 0.77222832 0.83049059 0.8194292  0.8289707\n",
            " 0.8125475  0.78776492 0.75162543 0.78426074 0.77974331 0.81326522\n",
            " 0.8141096  0.79473106 0.83336148 0.85898843 0.83901883 0.85628641\n",
            " 0.87486279 0.88782403 0.90095415 0.92793211 0.948535   0.93333615\n",
            " 0.91746179 0.92544119 0.91771511 0.9483239  0.94064004 0.96635143\n",
            " 0.9563033  0.96491598 0.94413203 0.93795931]\n",
            "2 day output [[0.9286534]]\n",
            "3 day input [0.88431985 0.87836697 0.8986321  0.92582116 0.92877649 0.95676771\n",
            " 0.93869797 0.93304061 0.94950604 0.96424048 0.95512117 0.95989192\n",
            " 0.96635143 0.96246728 0.92295027 0.9598497  0.98792536 0.98594106\n",
            " 0.92531453 0.92172591 0.96474711 0.97572406 0.99159841 0.96972895\n",
            " 0.97614625 0.96795575 1.         0.99016297 0.99050072 0.96538039\n",
            " 0.98488559 0.97086887 0.94026007 0.87748037 0.83483915 0.85413324\n",
            " 0.77336823 0.77269273 0.88014017 0.84007431 0.89673225 0.85527316\n",
            " 0.83884995 0.74233725 0.82327113 0.78143207 0.6665963  0.7921557\n",
            " 0.64118044 0.68614371 0.66001013 0.65203074 0.58642236 0.56586169\n",
            " 0.66089673 0.65515494 0.70970193 0.66452757 0.69437642 0.69218104\n",
            " 0.63569197 0.65266402 0.63780292 0.7267162  0.71388162 0.74191506\n",
            " 0.75002111 0.77222832 0.83049059 0.8194292  0.8289707  0.8125475\n",
            " 0.78776492 0.75162543 0.78426074 0.77974331 0.81326522 0.8141096\n",
            " 0.79473106 0.83336148 0.85898843 0.83901883 0.85628641 0.87486279\n",
            " 0.88782403 0.90095415 0.92793211 0.948535   0.93333615 0.91746179\n",
            " 0.92544119 0.91771511 0.9483239  0.94064004 0.96635143 0.9563033\n",
            " 0.96491598 0.94413203 0.93795931 0.92865342]\n",
            "3 day output [[0.91987926]]\n",
            "4 day input [0.87836697 0.8986321  0.92582116 0.92877649 0.95676771 0.93869797\n",
            " 0.93304061 0.94950604 0.96424048 0.95512117 0.95989192 0.96635143\n",
            " 0.96246728 0.92295027 0.9598497  0.98792536 0.98594106 0.92531453\n",
            " 0.92172591 0.96474711 0.97572406 0.99159841 0.96972895 0.97614625\n",
            " 0.96795575 1.         0.99016297 0.99050072 0.96538039 0.98488559\n",
            " 0.97086887 0.94026007 0.87748037 0.83483915 0.85413324 0.77336823\n",
            " 0.77269273 0.88014017 0.84007431 0.89673225 0.85527316 0.83884995\n",
            " 0.74233725 0.82327113 0.78143207 0.6665963  0.7921557  0.64118044\n",
            " 0.68614371 0.66001013 0.65203074 0.58642236 0.56586169 0.66089673\n",
            " 0.65515494 0.70970193 0.66452757 0.69437642 0.69218104 0.63569197\n",
            " 0.65266402 0.63780292 0.7267162  0.71388162 0.74191506 0.75002111\n",
            " 0.77222832 0.83049059 0.8194292  0.8289707  0.8125475  0.78776492\n",
            " 0.75162543 0.78426074 0.77974331 0.81326522 0.8141096  0.79473106\n",
            " 0.83336148 0.85898843 0.83901883 0.85628641 0.87486279 0.88782403\n",
            " 0.90095415 0.92793211 0.948535   0.93333615 0.91746179 0.92544119\n",
            " 0.91771511 0.9483239  0.94064004 0.96635143 0.9563033  0.96491598\n",
            " 0.94413203 0.93795931 0.92865342 0.91987926]\n",
            "4 day output [[0.9128097]]\n",
            "5 day input [0.8986321  0.92582116 0.92877649 0.95676771 0.93869797 0.93304061\n",
            " 0.94950604 0.96424048 0.95512117 0.95989192 0.96635143 0.96246728\n",
            " 0.92295027 0.9598497  0.98792536 0.98594106 0.92531453 0.92172591\n",
            " 0.96474711 0.97572406 0.99159841 0.96972895 0.97614625 0.96795575\n",
            " 1.         0.99016297 0.99050072 0.96538039 0.98488559 0.97086887\n",
            " 0.94026007 0.87748037 0.83483915 0.85413324 0.77336823 0.77269273\n",
            " 0.88014017 0.84007431 0.89673225 0.85527316 0.83884995 0.74233725\n",
            " 0.82327113 0.78143207 0.6665963  0.7921557  0.64118044 0.68614371\n",
            " 0.66001013 0.65203074 0.58642236 0.56586169 0.66089673 0.65515494\n",
            " 0.70970193 0.66452757 0.69437642 0.69218104 0.63569197 0.65266402\n",
            " 0.63780292 0.7267162  0.71388162 0.74191506 0.75002111 0.77222832\n",
            " 0.83049059 0.8194292  0.8289707  0.8125475  0.78776492 0.75162543\n",
            " 0.78426074 0.77974331 0.81326522 0.8141096  0.79473106 0.83336148\n",
            " 0.85898843 0.83901883 0.85628641 0.87486279 0.88782403 0.90095415\n",
            " 0.92793211 0.948535   0.93333615 0.91746179 0.92544119 0.91771511\n",
            " 0.9483239  0.94064004 0.96635143 0.9563033  0.96491598 0.94413203\n",
            " 0.93795931 0.92865342 0.91987926 0.91280973]\n",
            "5 day output [[0.90777564]]\n",
            "6 day input [0.92582116 0.92877649 0.95676771 0.93869797 0.93304061 0.94950604\n",
            " 0.96424048 0.95512117 0.95989192 0.96635143 0.96246728 0.92295027\n",
            " 0.9598497  0.98792536 0.98594106 0.92531453 0.92172591 0.96474711\n",
            " 0.97572406 0.99159841 0.96972895 0.97614625 0.96795575 1.\n",
            " 0.99016297 0.99050072 0.96538039 0.98488559 0.97086887 0.94026007\n",
            " 0.87748037 0.83483915 0.85413324 0.77336823 0.77269273 0.88014017\n",
            " 0.84007431 0.89673225 0.85527316 0.83884995 0.74233725 0.82327113\n",
            " 0.78143207 0.6665963  0.7921557  0.64118044 0.68614371 0.66001013\n",
            " 0.65203074 0.58642236 0.56586169 0.66089673 0.65515494 0.70970193\n",
            " 0.66452757 0.69437642 0.69218104 0.63569197 0.65266402 0.63780292\n",
            " 0.7267162  0.71388162 0.74191506 0.75002111 0.77222832 0.83049059\n",
            " 0.8194292  0.8289707  0.8125475  0.78776492 0.75162543 0.78426074\n",
            " 0.77974331 0.81326522 0.8141096  0.79473106 0.83336148 0.85898843\n",
            " 0.83901883 0.85628641 0.87486279 0.88782403 0.90095415 0.92793211\n",
            " 0.948535   0.93333615 0.91746179 0.92544119 0.91771511 0.9483239\n",
            " 0.94064004 0.96635143 0.9563033  0.96491598 0.94413203 0.93795931\n",
            " 0.92865342 0.91987926 0.91280973 0.90777564]\n",
            "6 day output [[0.9047326]]\n",
            "7 day input [0.92877649 0.95676771 0.93869797 0.93304061 0.94950604 0.96424048\n",
            " 0.95512117 0.95989192 0.96635143 0.96246728 0.92295027 0.9598497\n",
            " 0.98792536 0.98594106 0.92531453 0.92172591 0.96474711 0.97572406\n",
            " 0.99159841 0.96972895 0.97614625 0.96795575 1.         0.99016297\n",
            " 0.99050072 0.96538039 0.98488559 0.97086887 0.94026007 0.87748037\n",
            " 0.83483915 0.85413324 0.77336823 0.77269273 0.88014017 0.84007431\n",
            " 0.89673225 0.85527316 0.83884995 0.74233725 0.82327113 0.78143207\n",
            " 0.6665963  0.7921557  0.64118044 0.68614371 0.66001013 0.65203074\n",
            " 0.58642236 0.56586169 0.66089673 0.65515494 0.70970193 0.66452757\n",
            " 0.69437642 0.69218104 0.63569197 0.65266402 0.63780292 0.7267162\n",
            " 0.71388162 0.74191506 0.75002111 0.77222832 0.83049059 0.8194292\n",
            " 0.8289707  0.8125475  0.78776492 0.75162543 0.78426074 0.77974331\n",
            " 0.81326522 0.8141096  0.79473106 0.83336148 0.85898843 0.83901883\n",
            " 0.85628641 0.87486279 0.88782403 0.90095415 0.92793211 0.948535\n",
            " 0.93333615 0.91746179 0.92544119 0.91771511 0.9483239  0.94064004\n",
            " 0.96635143 0.9563033  0.96491598 0.94413203 0.93795931 0.92865342\n",
            " 0.91987926 0.91280973 0.90777564 0.90473258]\n",
            "7 day output [[0.9033923]]\n",
            "8 day input [0.95676771 0.93869797 0.93304061 0.94950604 0.96424048 0.95512117\n",
            " 0.95989192 0.96635143 0.96246728 0.92295027 0.9598497  0.98792536\n",
            " 0.98594106 0.92531453 0.92172591 0.96474711 0.97572406 0.99159841\n",
            " 0.96972895 0.97614625 0.96795575 1.         0.99016297 0.99050072\n",
            " 0.96538039 0.98488559 0.97086887 0.94026007 0.87748037 0.83483915\n",
            " 0.85413324 0.77336823 0.77269273 0.88014017 0.84007431 0.89673225\n",
            " 0.85527316 0.83884995 0.74233725 0.82327113 0.78143207 0.6665963\n",
            " 0.7921557  0.64118044 0.68614371 0.66001013 0.65203074 0.58642236\n",
            " 0.56586169 0.66089673 0.65515494 0.70970193 0.66452757 0.69437642\n",
            " 0.69218104 0.63569197 0.65266402 0.63780292 0.7267162  0.71388162\n",
            " 0.74191506 0.75002111 0.77222832 0.83049059 0.8194292  0.8289707\n",
            " 0.8125475  0.78776492 0.75162543 0.78426074 0.77974331 0.81326522\n",
            " 0.8141096  0.79473106 0.83336148 0.85898843 0.83901883 0.85628641\n",
            " 0.87486279 0.88782403 0.90095415 0.92793211 0.948535   0.93333615\n",
            " 0.91746179 0.92544119 0.91771511 0.9483239  0.94064004 0.96635143\n",
            " 0.9563033  0.96491598 0.94413203 0.93795931 0.92865342 0.91987926\n",
            " 0.91280973 0.90777564 0.90473258 0.90339231]\n",
            "8 day output [[0.90332204]]\n",
            "9 day input [0.93869797 0.93304061 0.94950604 0.96424048 0.95512117 0.95989192\n",
            " 0.96635143 0.96246728 0.92295027 0.9598497  0.98792536 0.98594106\n",
            " 0.92531453 0.92172591 0.96474711 0.97572406 0.99159841 0.96972895\n",
            " 0.97614625 0.96795575 1.         0.99016297 0.99050072 0.96538039\n",
            " 0.98488559 0.97086887 0.94026007 0.87748037 0.83483915 0.85413324\n",
            " 0.77336823 0.77269273 0.88014017 0.84007431 0.89673225 0.85527316\n",
            " 0.83884995 0.74233725 0.82327113 0.78143207 0.6665963  0.7921557\n",
            " 0.64118044 0.68614371 0.66001013 0.65203074 0.58642236 0.56586169\n",
            " 0.66089673 0.65515494 0.70970193 0.66452757 0.69437642 0.69218104\n",
            " 0.63569197 0.65266402 0.63780292 0.7267162  0.71388162 0.74191506\n",
            " 0.75002111 0.77222832 0.83049059 0.8194292  0.8289707  0.8125475\n",
            " 0.78776492 0.75162543 0.78426074 0.77974331 0.81326522 0.8141096\n",
            " 0.79473106 0.83336148 0.85898843 0.83901883 0.85628641 0.87486279\n",
            " 0.88782403 0.90095415 0.92793211 0.948535   0.93333615 0.91746179\n",
            " 0.92544119 0.91771511 0.9483239  0.94064004 0.96635143 0.9563033\n",
            " 0.96491598 0.94413203 0.93795931 0.92865342 0.91987926 0.91280973\n",
            " 0.90777564 0.90473258 0.90339231 0.90332204]\n",
            "9 day output [[0.9040391]]\n",
            "10 day input [0.93304061 0.94950604 0.96424048 0.95512117 0.95989192 0.96635143\n",
            " 0.96246728 0.92295027 0.9598497  0.98792536 0.98594106 0.92531453\n",
            " 0.92172591 0.96474711 0.97572406 0.99159841 0.96972895 0.97614625\n",
            " 0.96795575 1.         0.99016297 0.99050072 0.96538039 0.98488559\n",
            " 0.97086887 0.94026007 0.87748037 0.83483915 0.85413324 0.77336823\n",
            " 0.77269273 0.88014017 0.84007431 0.89673225 0.85527316 0.83884995\n",
            " 0.74233725 0.82327113 0.78143207 0.6665963  0.7921557  0.64118044\n",
            " 0.68614371 0.66001013 0.65203074 0.58642236 0.56586169 0.66089673\n",
            " 0.65515494 0.70970193 0.66452757 0.69437642 0.69218104 0.63569197\n",
            " 0.65266402 0.63780292 0.7267162  0.71388162 0.74191506 0.75002111\n",
            " 0.77222832 0.83049059 0.8194292  0.8289707  0.8125475  0.78776492\n",
            " 0.75162543 0.78426074 0.77974331 0.81326522 0.8141096  0.79473106\n",
            " 0.83336148 0.85898843 0.83901883 0.85628641 0.87486279 0.88782403\n",
            " 0.90095415 0.92793211 0.948535   0.93333615 0.91746179 0.92544119\n",
            " 0.91771511 0.9483239  0.94064004 0.96635143 0.9563033  0.96491598\n",
            " 0.94413203 0.93795931 0.92865342 0.91987926 0.91280973 0.90777564\n",
            " 0.90473258 0.90339231 0.90332204 0.90403908]\n"
          ],
          "name": "stdout"
        },
        {
          "output_type": "stream",
          "text": [
            "10 day output [[0.9050924]]\n",
            "11 day input [0.94950604 0.96424048 0.95512117 0.95989192 0.96635143 0.96246728\n",
            " 0.92295027 0.9598497  0.98792536 0.98594106 0.92531453 0.92172591\n",
            " 0.96474711 0.97572406 0.99159841 0.96972895 0.97614625 0.96795575\n",
            " 1.         0.99016297 0.99050072 0.96538039 0.98488559 0.97086887\n",
            " 0.94026007 0.87748037 0.83483915 0.85413324 0.77336823 0.77269273\n",
            " 0.88014017 0.84007431 0.89673225 0.85527316 0.83884995 0.74233725\n",
            " 0.82327113 0.78143207 0.6665963  0.7921557  0.64118044 0.68614371\n",
            " 0.66001013 0.65203074 0.58642236 0.56586169 0.66089673 0.65515494\n",
            " 0.70970193 0.66452757 0.69437642 0.69218104 0.63569197 0.65266402\n",
            " 0.63780292 0.7267162  0.71388162 0.74191506 0.75002111 0.77222832\n",
            " 0.83049059 0.8194292  0.8289707  0.8125475  0.78776492 0.75162543\n",
            " 0.78426074 0.77974331 0.81326522 0.8141096  0.79473106 0.83336148\n",
            " 0.85898843 0.83901883 0.85628641 0.87486279 0.88782403 0.90095415\n",
            " 0.92793211 0.948535   0.93333615 0.91746179 0.92544119 0.91771511\n",
            " 0.9483239  0.94064004 0.96635143 0.9563033  0.96491598 0.94413203\n",
            " 0.93795931 0.92865342 0.91987926 0.91280973 0.90777564 0.90473258\n",
            " 0.90339231 0.90332204 0.90403908 0.90509242]\n",
            "11 day output [[0.906118]]\n",
            "12 day input [0.96424048 0.95512117 0.95989192 0.96635143 0.96246728 0.92295027\n",
            " 0.9598497  0.98792536 0.98594106 0.92531453 0.92172591 0.96474711\n",
            " 0.97572406 0.99159841 0.96972895 0.97614625 0.96795575 1.\n",
            " 0.99016297 0.99050072 0.96538039 0.98488559 0.97086887 0.94026007\n",
            " 0.87748037 0.83483915 0.85413324 0.77336823 0.77269273 0.88014017\n",
            " 0.84007431 0.89673225 0.85527316 0.83884995 0.74233725 0.82327113\n",
            " 0.78143207 0.6665963  0.7921557  0.64118044 0.68614371 0.66001013\n",
            " 0.65203074 0.58642236 0.56586169 0.66089673 0.65515494 0.70970193\n",
            " 0.66452757 0.69437642 0.69218104 0.63569197 0.65266402 0.63780292\n",
            " 0.7267162  0.71388162 0.74191506 0.75002111 0.77222832 0.83049059\n",
            " 0.8194292  0.8289707  0.8125475  0.78776492 0.75162543 0.78426074\n",
            " 0.77974331 0.81326522 0.8141096  0.79473106 0.83336148 0.85898843\n",
            " 0.83901883 0.85628641 0.87486279 0.88782403 0.90095415 0.92793211\n",
            " 0.948535   0.93333615 0.91746179 0.92544119 0.91771511 0.9483239\n",
            " 0.94064004 0.96635143 0.9563033  0.96491598 0.94413203 0.93795931\n",
            " 0.92865342 0.91987926 0.91280973 0.90777564 0.90473258 0.90339231\n",
            " 0.90332204 0.90403908 0.90509242 0.90611798]\n",
            "12 day output [[0.90686554]]\n",
            "13 day input [0.95512117 0.95989192 0.96635143 0.96246728 0.92295027 0.9598497\n",
            " 0.98792536 0.98594106 0.92531453 0.92172591 0.96474711 0.97572406\n",
            " 0.99159841 0.96972895 0.97614625 0.96795575 1.         0.99016297\n",
            " 0.99050072 0.96538039 0.98488559 0.97086887 0.94026007 0.87748037\n",
            " 0.83483915 0.85413324 0.77336823 0.77269273 0.88014017 0.84007431\n",
            " 0.89673225 0.85527316 0.83884995 0.74233725 0.82327113 0.78143207\n",
            " 0.6665963  0.7921557  0.64118044 0.68614371 0.66001013 0.65203074\n",
            " 0.58642236 0.56586169 0.66089673 0.65515494 0.70970193 0.66452757\n",
            " 0.69437642 0.69218104 0.63569197 0.65266402 0.63780292 0.7267162\n",
            " 0.71388162 0.74191506 0.75002111 0.77222832 0.83049059 0.8194292\n",
            " 0.8289707  0.8125475  0.78776492 0.75162543 0.78426074 0.77974331\n",
            " 0.81326522 0.8141096  0.79473106 0.83336148 0.85898843 0.83901883\n",
            " 0.85628641 0.87486279 0.88782403 0.90095415 0.92793211 0.948535\n",
            " 0.93333615 0.91746179 0.92544119 0.91771511 0.9483239  0.94064004\n",
            " 0.96635143 0.9563033  0.96491598 0.94413203 0.93795931 0.92865342\n",
            " 0.91987926 0.91280973 0.90777564 0.90473258 0.90339231 0.90332204\n",
            " 0.90403908 0.90509242 0.90611798 0.90686554]\n",
            "13 day output [[0.90720606]]\n",
            "14 day input [0.95989192 0.96635143 0.96246728 0.92295027 0.9598497  0.98792536\n",
            " 0.98594106 0.92531453 0.92172591 0.96474711 0.97572406 0.99159841\n",
            " 0.96972895 0.97614625 0.96795575 1.         0.99016297 0.99050072\n",
            " 0.96538039 0.98488559 0.97086887 0.94026007 0.87748037 0.83483915\n",
            " 0.85413324 0.77336823 0.77269273 0.88014017 0.84007431 0.89673225\n",
            " 0.85527316 0.83884995 0.74233725 0.82327113 0.78143207 0.6665963\n",
            " 0.7921557  0.64118044 0.68614371 0.66001013 0.65203074 0.58642236\n",
            " 0.56586169 0.66089673 0.65515494 0.70970193 0.66452757 0.69437642\n",
            " 0.69218104 0.63569197 0.65266402 0.63780292 0.7267162  0.71388162\n",
            " 0.74191506 0.75002111 0.77222832 0.83049059 0.8194292  0.8289707\n",
            " 0.8125475  0.78776492 0.75162543 0.78426074 0.77974331 0.81326522\n",
            " 0.8141096  0.79473106 0.83336148 0.85898843 0.83901883 0.85628641\n",
            " 0.87486279 0.88782403 0.90095415 0.92793211 0.948535   0.93333615\n",
            " 0.91746179 0.92544119 0.91771511 0.9483239  0.94064004 0.96635143\n",
            " 0.9563033  0.96491598 0.94413203 0.93795931 0.92865342 0.91987926\n",
            " 0.91280973 0.90777564 0.90473258 0.90339231 0.90332204 0.90403908\n",
            " 0.90509242 0.90611798 0.90686554 0.90720606]\n",
            "14 day output [[0.9071163]]\n",
            "15 day input [0.96635143 0.96246728 0.92295027 0.9598497  0.98792536 0.98594106\n",
            " 0.92531453 0.92172591 0.96474711 0.97572406 0.99159841 0.96972895\n",
            " 0.97614625 0.96795575 1.         0.99016297 0.99050072 0.96538039\n",
            " 0.98488559 0.97086887 0.94026007 0.87748037 0.83483915 0.85413324\n",
            " 0.77336823 0.77269273 0.88014017 0.84007431 0.89673225 0.85527316\n",
            " 0.83884995 0.74233725 0.82327113 0.78143207 0.6665963  0.7921557\n",
            " 0.64118044 0.68614371 0.66001013 0.65203074 0.58642236 0.56586169\n",
            " 0.66089673 0.65515494 0.70970193 0.66452757 0.69437642 0.69218104\n",
            " 0.63569197 0.65266402 0.63780292 0.7267162  0.71388162 0.74191506\n",
            " 0.75002111 0.77222832 0.83049059 0.8194292  0.8289707  0.8125475\n",
            " 0.78776492 0.75162543 0.78426074 0.77974331 0.81326522 0.8141096\n",
            " 0.79473106 0.83336148 0.85898843 0.83901883 0.85628641 0.87486279\n",
            " 0.88782403 0.90095415 0.92793211 0.948535   0.93333615 0.91746179\n",
            " 0.92544119 0.91771511 0.9483239  0.94064004 0.96635143 0.9563033\n",
            " 0.96491598 0.94413203 0.93795931 0.92865342 0.91987926 0.91280973\n",
            " 0.90777564 0.90473258 0.90339231 0.90332204 0.90403908 0.90509242\n",
            " 0.90611798 0.90686554 0.90720606 0.90711629]\n",
            "15 day output [[0.9066538]]\n",
            "16 day input [0.96246728 0.92295027 0.9598497  0.98792536 0.98594106 0.92531453\n",
            " 0.92172591 0.96474711 0.97572406 0.99159841 0.96972895 0.97614625\n",
            " 0.96795575 1.         0.99016297 0.99050072 0.96538039 0.98488559\n",
            " 0.97086887 0.94026007 0.87748037 0.83483915 0.85413324 0.77336823\n",
            " 0.77269273 0.88014017 0.84007431 0.89673225 0.85527316 0.83884995\n",
            " 0.74233725 0.82327113 0.78143207 0.6665963  0.7921557  0.64118044\n",
            " 0.68614371 0.66001013 0.65203074 0.58642236 0.56586169 0.66089673\n",
            " 0.65515494 0.70970193 0.66452757 0.69437642 0.69218104 0.63569197\n",
            " 0.65266402 0.63780292 0.7267162  0.71388162 0.74191506 0.75002111\n",
            " 0.77222832 0.83049059 0.8194292  0.8289707  0.8125475  0.78776492\n",
            " 0.75162543 0.78426074 0.77974331 0.81326522 0.8141096  0.79473106\n",
            " 0.83336148 0.85898843 0.83901883 0.85628641 0.87486279 0.88782403\n",
            " 0.90095415 0.92793211 0.948535   0.93333615 0.91746179 0.92544119\n",
            " 0.91771511 0.9483239  0.94064004 0.96635143 0.9563033  0.96491598\n",
            " 0.94413203 0.93795931 0.92865342 0.91987926 0.91280973 0.90777564\n",
            " 0.90473258 0.90339231 0.90332204 0.90403908 0.90509242 0.90611798\n",
            " 0.90686554 0.90720606 0.90711629 0.90665382]\n",
            "16 day output [[0.90592706]]\n",
            "17 day input [0.92295027 0.9598497  0.98792536 0.98594106 0.92531453 0.92172591\n",
            " 0.96474711 0.97572406 0.99159841 0.96972895 0.97614625 0.96795575\n",
            " 1.         0.99016297 0.99050072 0.96538039 0.98488559 0.97086887\n",
            " 0.94026007 0.87748037 0.83483915 0.85413324 0.77336823 0.77269273\n",
            " 0.88014017 0.84007431 0.89673225 0.85527316 0.83884995 0.74233725\n",
            " 0.82327113 0.78143207 0.6665963  0.7921557  0.64118044 0.68614371\n",
            " 0.66001013 0.65203074 0.58642236 0.56586169 0.66089673 0.65515494\n",
            " 0.70970193 0.66452757 0.69437642 0.69218104 0.63569197 0.65266402\n",
            " 0.63780292 0.7267162  0.71388162 0.74191506 0.75002111 0.77222832\n",
            " 0.83049059 0.8194292  0.8289707  0.8125475  0.78776492 0.75162543\n",
            " 0.78426074 0.77974331 0.81326522 0.8141096  0.79473106 0.83336148\n",
            " 0.85898843 0.83901883 0.85628641 0.87486279 0.88782403 0.90095415\n",
            " 0.92793211 0.948535   0.93333615 0.91746179 0.92544119 0.91771511\n",
            " 0.9483239  0.94064004 0.96635143 0.9563033  0.96491598 0.94413203\n",
            " 0.93795931 0.92865342 0.91987926 0.91280973 0.90777564 0.90473258\n",
            " 0.90339231 0.90332204 0.90403908 0.90509242 0.90611798 0.90686554\n",
            " 0.90720606 0.90711629 0.90665382 0.90592706]\n",
            "17 day output [[0.9050646]]\n",
            "18 day input [0.9598497  0.98792536 0.98594106 0.92531453 0.92172591 0.96474711\n",
            " 0.97572406 0.99159841 0.96972895 0.97614625 0.96795575 1.\n",
            " 0.99016297 0.99050072 0.96538039 0.98488559 0.97086887 0.94026007\n",
            " 0.87748037 0.83483915 0.85413324 0.77336823 0.77269273 0.88014017\n",
            " 0.84007431 0.89673225 0.85527316 0.83884995 0.74233725 0.82327113\n",
            " 0.78143207 0.6665963  0.7921557  0.64118044 0.68614371 0.66001013\n",
            " 0.65203074 0.58642236 0.56586169 0.66089673 0.65515494 0.70970193\n",
            " 0.66452757 0.69437642 0.69218104 0.63569197 0.65266402 0.63780292\n",
            " 0.7267162  0.71388162 0.74191506 0.75002111 0.77222832 0.83049059\n",
            " 0.8194292  0.8289707  0.8125475  0.78776492 0.75162543 0.78426074\n",
            " 0.77974331 0.81326522 0.8141096  0.79473106 0.83336148 0.85898843\n",
            " 0.83901883 0.85628641 0.87486279 0.88782403 0.90095415 0.92793211\n",
            " 0.948535   0.93333615 0.91746179 0.92544119 0.91771511 0.9483239\n",
            " 0.94064004 0.96635143 0.9563033  0.96491598 0.94413203 0.93795931\n",
            " 0.92865342 0.91987926 0.91280973 0.90777564 0.90473258 0.90339231\n",
            " 0.90332204 0.90403908 0.90509242 0.90611798 0.90686554 0.90720606\n",
            " 0.90711629 0.90665382 0.90592706 0.90506458]\n",
            "18 day output [[0.90419257]]\n",
            "19 day input [0.98792536 0.98594106 0.92531453 0.92172591 0.96474711 0.97572406\n",
            " 0.99159841 0.96972895 0.97614625 0.96795575 1.         0.99016297\n",
            " 0.99050072 0.96538039 0.98488559 0.97086887 0.94026007 0.87748037\n",
            " 0.83483915 0.85413324 0.77336823 0.77269273 0.88014017 0.84007431\n",
            " 0.89673225 0.85527316 0.83884995 0.74233725 0.82327113 0.78143207\n",
            " 0.6665963  0.7921557  0.64118044 0.68614371 0.66001013 0.65203074\n",
            " 0.58642236 0.56586169 0.66089673 0.65515494 0.70970193 0.66452757\n",
            " 0.69437642 0.69218104 0.63569197 0.65266402 0.63780292 0.7267162\n",
            " 0.71388162 0.74191506 0.75002111 0.77222832 0.83049059 0.8194292\n",
            " 0.8289707  0.8125475  0.78776492 0.75162543 0.78426074 0.77974331\n",
            " 0.81326522 0.8141096  0.79473106 0.83336148 0.85898843 0.83901883\n",
            " 0.85628641 0.87486279 0.88782403 0.90095415 0.92793211 0.948535\n",
            " 0.93333615 0.91746179 0.92544119 0.91771511 0.9483239  0.94064004\n",
            " 0.96635143 0.9563033  0.96491598 0.94413203 0.93795931 0.92865342\n",
            " 0.91987926 0.91280973 0.90777564 0.90473258 0.90339231 0.90332204\n",
            " 0.90403908 0.90509242 0.90611798 0.90686554 0.90720606 0.90711629\n",
            " 0.90665382 0.90592706 0.90506458 0.90419257]\n",
            "19 day output [[0.9034131]]\n",
            "20 day input [0.98594106 0.92531453 0.92172591 0.96474711 0.97572406 0.99159841\n",
            " 0.96972895 0.97614625 0.96795575 1.         0.99016297 0.99050072\n",
            " 0.96538039 0.98488559 0.97086887 0.94026007 0.87748037 0.83483915\n",
            " 0.85413324 0.77336823 0.77269273 0.88014017 0.84007431 0.89673225\n",
            " 0.85527316 0.83884995 0.74233725 0.82327113 0.78143207 0.6665963\n",
            " 0.7921557  0.64118044 0.68614371 0.66001013 0.65203074 0.58642236\n",
            " 0.56586169 0.66089673 0.65515494 0.70970193 0.66452757 0.69437642\n",
            " 0.69218104 0.63569197 0.65266402 0.63780292 0.7267162  0.71388162\n",
            " 0.74191506 0.75002111 0.77222832 0.83049059 0.8194292  0.8289707\n",
            " 0.8125475  0.78776492 0.75162543 0.78426074 0.77974331 0.81326522\n",
            " 0.8141096  0.79473106 0.83336148 0.85898843 0.83901883 0.85628641\n",
            " 0.87486279 0.88782403 0.90095415 0.92793211 0.948535   0.93333615\n",
            " 0.91746179 0.92544119 0.91771511 0.9483239  0.94064004 0.96635143\n",
            " 0.9563033  0.96491598 0.94413203 0.93795931 0.92865342 0.91987926\n",
            " 0.91280973 0.90777564 0.90473258 0.90339231 0.90332204 0.90403908\n",
            " 0.90509242 0.90611798 0.90686554 0.90720606 0.90711629 0.90665382\n",
            " 0.90592706 0.90506458 0.90419257 0.90341312]\n"
          ],
          "name": "stdout"
        },
        {
          "output_type": "stream",
          "text": [
            "20 day output [[0.90279734]]\n",
            "21 day input [0.92531453 0.92172591 0.96474711 0.97572406 0.99159841 0.96972895\n",
            " 0.97614625 0.96795575 1.         0.99016297 0.99050072 0.96538039\n",
            " 0.98488559 0.97086887 0.94026007 0.87748037 0.83483915 0.85413324\n",
            " 0.77336823 0.77269273 0.88014017 0.84007431 0.89673225 0.85527316\n",
            " 0.83884995 0.74233725 0.82327113 0.78143207 0.6665963  0.7921557\n",
            " 0.64118044 0.68614371 0.66001013 0.65203074 0.58642236 0.56586169\n",
            " 0.66089673 0.65515494 0.70970193 0.66452757 0.69437642 0.69218104\n",
            " 0.63569197 0.65266402 0.63780292 0.7267162  0.71388162 0.74191506\n",
            " 0.75002111 0.77222832 0.83049059 0.8194292  0.8289707  0.8125475\n",
            " 0.78776492 0.75162543 0.78426074 0.77974331 0.81326522 0.8141096\n",
            " 0.79473106 0.83336148 0.85898843 0.83901883 0.85628641 0.87486279\n",
            " 0.88782403 0.90095415 0.92793211 0.948535   0.93333615 0.91746179\n",
            " 0.92544119 0.91771511 0.9483239  0.94064004 0.96635143 0.9563033\n",
            " 0.96491598 0.94413203 0.93795931 0.92865342 0.91987926 0.91280973\n",
            " 0.90777564 0.90473258 0.90339231 0.90332204 0.90403908 0.90509242\n",
            " 0.90611798 0.90686554 0.90720606 0.90711629 0.90665382 0.90592706\n",
            " 0.90506458 0.90419257 0.90341312 0.90279734]\n",
            "21 day output [[0.9023812]]\n",
            "22 day input [0.92172591 0.96474711 0.97572406 0.99159841 0.96972895 0.97614625\n",
            " 0.96795575 1.         0.99016297 0.99050072 0.96538039 0.98488559\n",
            " 0.97086887 0.94026007 0.87748037 0.83483915 0.85413324 0.77336823\n",
            " 0.77269273 0.88014017 0.84007431 0.89673225 0.85527316 0.83884995\n",
            " 0.74233725 0.82327113 0.78143207 0.6665963  0.7921557  0.64118044\n",
            " 0.68614371 0.66001013 0.65203074 0.58642236 0.56586169 0.66089673\n",
            " 0.65515494 0.70970193 0.66452757 0.69437642 0.69218104 0.63569197\n",
            " 0.65266402 0.63780292 0.7267162  0.71388162 0.74191506 0.75002111\n",
            " 0.77222832 0.83049059 0.8194292  0.8289707  0.8125475  0.78776492\n",
            " 0.75162543 0.78426074 0.77974331 0.81326522 0.8141096  0.79473106\n",
            " 0.83336148 0.85898843 0.83901883 0.85628641 0.87486279 0.88782403\n",
            " 0.90095415 0.92793211 0.948535   0.93333615 0.91746179 0.92544119\n",
            " 0.91771511 0.9483239  0.94064004 0.96635143 0.9563033  0.96491598\n",
            " 0.94413203 0.93795931 0.92865342 0.91987926 0.91280973 0.90777564\n",
            " 0.90473258 0.90339231 0.90332204 0.90403908 0.90509242 0.90611798\n",
            " 0.90686554 0.90720606 0.90711629 0.90665382 0.90592706 0.90506458\n",
            " 0.90419257 0.90341312 0.90279734 0.90238118]\n",
            "22 day output [[0.9021694]]\n",
            "23 day input [0.96474711 0.97572406 0.99159841 0.96972895 0.97614625 0.96795575\n",
            " 1.         0.99016297 0.99050072 0.96538039 0.98488559 0.97086887\n",
            " 0.94026007 0.87748037 0.83483915 0.85413324 0.77336823 0.77269273\n",
            " 0.88014017 0.84007431 0.89673225 0.85527316 0.83884995 0.74233725\n",
            " 0.82327113 0.78143207 0.6665963  0.7921557  0.64118044 0.68614371\n",
            " 0.66001013 0.65203074 0.58642236 0.56586169 0.66089673 0.65515494\n",
            " 0.70970193 0.66452757 0.69437642 0.69218104 0.63569197 0.65266402\n",
            " 0.63780292 0.7267162  0.71388162 0.74191506 0.75002111 0.77222832\n",
            " 0.83049059 0.8194292  0.8289707  0.8125475  0.78776492 0.75162543\n",
            " 0.78426074 0.77974331 0.81326522 0.8141096  0.79473106 0.83336148\n",
            " 0.85898843 0.83901883 0.85628641 0.87486279 0.88782403 0.90095415\n",
            " 0.92793211 0.948535   0.93333615 0.91746179 0.92544119 0.91771511\n",
            " 0.9483239  0.94064004 0.96635143 0.9563033  0.96491598 0.94413203\n",
            " 0.93795931 0.92865342 0.91987926 0.91280973 0.90777564 0.90473258\n",
            " 0.90339231 0.90332204 0.90403908 0.90509242 0.90611798 0.90686554\n",
            " 0.90720606 0.90711629 0.90665382 0.90592706 0.90506458 0.90419257\n",
            " 0.90341312 0.90279734 0.90238118 0.90216941]\n",
            "23 day output [[0.90213937]]\n",
            "24 day input [0.97572406 0.99159841 0.96972895 0.97614625 0.96795575 1.\n",
            " 0.99016297 0.99050072 0.96538039 0.98488559 0.97086887 0.94026007\n",
            " 0.87748037 0.83483915 0.85413324 0.77336823 0.77269273 0.88014017\n",
            " 0.84007431 0.89673225 0.85527316 0.83884995 0.74233725 0.82327113\n",
            " 0.78143207 0.6665963  0.7921557  0.64118044 0.68614371 0.66001013\n",
            " 0.65203074 0.58642236 0.56586169 0.66089673 0.65515494 0.70970193\n",
            " 0.66452757 0.69437642 0.69218104 0.63569197 0.65266402 0.63780292\n",
            " 0.7267162  0.71388162 0.74191506 0.75002111 0.77222832 0.83049059\n",
            " 0.8194292  0.8289707  0.8125475  0.78776492 0.75162543 0.78426074\n",
            " 0.77974331 0.81326522 0.8141096  0.79473106 0.83336148 0.85898843\n",
            " 0.83901883 0.85628641 0.87486279 0.88782403 0.90095415 0.92793211\n",
            " 0.948535   0.93333615 0.91746179 0.92544119 0.91771511 0.9483239\n",
            " 0.94064004 0.96635143 0.9563033  0.96491598 0.94413203 0.93795931\n",
            " 0.92865342 0.91987926 0.91280973 0.90777564 0.90473258 0.90339231\n",
            " 0.90332204 0.90403908 0.90509242 0.90611798 0.90686554 0.90720606\n",
            " 0.90711629 0.90665382 0.90592706 0.90506458 0.90419257 0.90341312\n",
            " 0.90279734 0.90238118 0.90216941 0.90213937]\n",
            "24 day output [[0.9022528]]\n",
            "25 day input [0.99159841 0.96972895 0.97614625 0.96795575 1.         0.99016297\n",
            " 0.99050072 0.96538039 0.98488559 0.97086887 0.94026007 0.87748037\n",
            " 0.83483915 0.85413324 0.77336823 0.77269273 0.88014017 0.84007431\n",
            " 0.89673225 0.85527316 0.83884995 0.74233725 0.82327113 0.78143207\n",
            " 0.6665963  0.7921557  0.64118044 0.68614371 0.66001013 0.65203074\n",
            " 0.58642236 0.56586169 0.66089673 0.65515494 0.70970193 0.66452757\n",
            " 0.69437642 0.69218104 0.63569197 0.65266402 0.63780292 0.7267162\n",
            " 0.71388162 0.74191506 0.75002111 0.77222832 0.83049059 0.8194292\n",
            " 0.8289707  0.8125475  0.78776492 0.75162543 0.78426074 0.77974331\n",
            " 0.81326522 0.8141096  0.79473106 0.83336148 0.85898843 0.83901883\n",
            " 0.85628641 0.87486279 0.88782403 0.90095415 0.92793211 0.948535\n",
            " 0.93333615 0.91746179 0.92544119 0.91771511 0.9483239  0.94064004\n",
            " 0.96635143 0.9563033  0.96491598 0.94413203 0.93795931 0.92865342\n",
            " 0.91987926 0.91280973 0.90777564 0.90473258 0.90339231 0.90332204\n",
            " 0.90403908 0.90509242 0.90611798 0.90686554 0.90720606 0.90711629\n",
            " 0.90665382 0.90592706 0.90506458 0.90419257 0.90341312 0.90279734\n",
            " 0.90238118 0.90216941 0.90213937 0.90225279]\n",
            "25 day output [[0.90246403]]\n",
            "26 day input [0.96972895 0.97614625 0.96795575 1.         0.99016297 0.99050072\n",
            " 0.96538039 0.98488559 0.97086887 0.94026007 0.87748037 0.83483915\n",
            " 0.85413324 0.77336823 0.77269273 0.88014017 0.84007431 0.89673225\n",
            " 0.85527316 0.83884995 0.74233725 0.82327113 0.78143207 0.6665963\n",
            " 0.7921557  0.64118044 0.68614371 0.66001013 0.65203074 0.58642236\n",
            " 0.56586169 0.66089673 0.65515494 0.70970193 0.66452757 0.69437642\n",
            " 0.69218104 0.63569197 0.65266402 0.63780292 0.7267162  0.71388162\n",
            " 0.74191506 0.75002111 0.77222832 0.83049059 0.8194292  0.8289707\n",
            " 0.8125475  0.78776492 0.75162543 0.78426074 0.77974331 0.81326522\n",
            " 0.8141096  0.79473106 0.83336148 0.85898843 0.83901883 0.85628641\n",
            " 0.87486279 0.88782403 0.90095415 0.92793211 0.948535   0.93333615\n",
            " 0.91746179 0.92544119 0.91771511 0.9483239  0.94064004 0.96635143\n",
            " 0.9563033  0.96491598 0.94413203 0.93795931 0.92865342 0.91987926\n",
            " 0.91280973 0.90777564 0.90473258 0.90339231 0.90332204 0.90403908\n",
            " 0.90509242 0.90611798 0.90686554 0.90720606 0.90711629 0.90665382\n",
            " 0.90592706 0.90506458 0.90419257 0.90341312 0.90279734 0.90238118\n",
            " 0.90216941 0.90213937 0.90225279 0.90246403]\n",
            "26 day output [[0.90272856]]\n",
            "27 day input [0.97614625 0.96795575 1.         0.99016297 0.99050072 0.96538039\n",
            " 0.98488559 0.97086887 0.94026007 0.87748037 0.83483915 0.85413324\n",
            " 0.77336823 0.77269273 0.88014017 0.84007431 0.89673225 0.85527316\n",
            " 0.83884995 0.74233725 0.82327113 0.78143207 0.6665963  0.7921557\n",
            " 0.64118044 0.68614371 0.66001013 0.65203074 0.58642236 0.56586169\n",
            " 0.66089673 0.65515494 0.70970193 0.66452757 0.69437642 0.69218104\n",
            " 0.63569197 0.65266402 0.63780292 0.7267162  0.71388162 0.74191506\n",
            " 0.75002111 0.77222832 0.83049059 0.8194292  0.8289707  0.8125475\n",
            " 0.78776492 0.75162543 0.78426074 0.77974331 0.81326522 0.8141096\n",
            " 0.79473106 0.83336148 0.85898843 0.83901883 0.85628641 0.87486279\n",
            " 0.88782403 0.90095415 0.92793211 0.948535   0.93333615 0.91746179\n",
            " 0.92544119 0.91771511 0.9483239  0.94064004 0.96635143 0.9563033\n",
            " 0.96491598 0.94413203 0.93795931 0.92865342 0.91987926 0.91280973\n",
            " 0.90777564 0.90473258 0.90339231 0.90332204 0.90403908 0.90509242\n",
            " 0.90611798 0.90686554 0.90720606 0.90711629 0.90665382 0.90592706\n",
            " 0.90506458 0.90419257 0.90341312 0.90279734 0.90238118 0.90216941\n",
            " 0.90213937 0.90225279 0.90246403 0.90272856]\n",
            "27 day output [[0.90300757]]\n",
            "28 day input [0.96795575 1.         0.99016297 0.99050072 0.96538039 0.98488559\n",
            " 0.97086887 0.94026007 0.87748037 0.83483915 0.85413324 0.77336823\n",
            " 0.77269273 0.88014017 0.84007431 0.89673225 0.85527316 0.83884995\n",
            " 0.74233725 0.82327113 0.78143207 0.6665963  0.7921557  0.64118044\n",
            " 0.68614371 0.66001013 0.65203074 0.58642236 0.56586169 0.66089673\n",
            " 0.65515494 0.70970193 0.66452757 0.69437642 0.69218104 0.63569197\n",
            " 0.65266402 0.63780292 0.7267162  0.71388162 0.74191506 0.75002111\n",
            " 0.77222832 0.83049059 0.8194292  0.8289707  0.8125475  0.78776492\n",
            " 0.75162543 0.78426074 0.77974331 0.81326522 0.8141096  0.79473106\n",
            " 0.83336148 0.85898843 0.83901883 0.85628641 0.87486279 0.88782403\n",
            " 0.90095415 0.92793211 0.948535   0.93333615 0.91746179 0.92544119\n",
            " 0.91771511 0.9483239  0.94064004 0.96635143 0.9563033  0.96491598\n",
            " 0.94413203 0.93795931 0.92865342 0.91987926 0.91280973 0.90777564\n",
            " 0.90473258 0.90339231 0.90332204 0.90403908 0.90509242 0.90611798\n",
            " 0.90686554 0.90720606 0.90711629 0.90665382 0.90592706 0.90506458\n",
            " 0.90419257 0.90341312 0.90279734 0.90238118 0.90216941 0.90213937\n",
            " 0.90225279 0.90246403 0.90272856 0.90300757]\n"
          ],
          "name": "stdout"
        },
        {
          "output_type": "stream",
          "text": [
            "28 day output [[0.903272]]\n",
            "29 day input [1.         0.99016297 0.99050072 0.96538039 0.98488559 0.97086887\n",
            " 0.94026007 0.87748037 0.83483915 0.85413324 0.77336823 0.77269273\n",
            " 0.88014017 0.84007431 0.89673225 0.85527316 0.83884995 0.74233725\n",
            " 0.82327113 0.78143207 0.6665963  0.7921557  0.64118044 0.68614371\n",
            " 0.66001013 0.65203074 0.58642236 0.56586169 0.66089673 0.65515494\n",
            " 0.70970193 0.66452757 0.69437642 0.69218104 0.63569197 0.65266402\n",
            " 0.63780292 0.7267162  0.71388162 0.74191506 0.75002111 0.77222832\n",
            " 0.83049059 0.8194292  0.8289707  0.8125475  0.78776492 0.75162543\n",
            " 0.78426074 0.77974331 0.81326522 0.8141096  0.79473106 0.83336148\n",
            " 0.85898843 0.83901883 0.85628641 0.87486279 0.88782403 0.90095415\n",
            " 0.92793211 0.948535   0.93333615 0.91746179 0.92544119 0.91771511\n",
            " 0.9483239  0.94064004 0.96635143 0.9563033  0.96491598 0.94413203\n",
            " 0.93795931 0.92865342 0.91987926 0.91280973 0.90777564 0.90473258\n",
            " 0.90339231 0.90332204 0.90403908 0.90509242 0.90611798 0.90686554\n",
            " 0.90720606 0.90711629 0.90665382 0.90592706 0.90506458 0.90419257\n",
            " 0.90341312 0.90279734 0.90238118 0.90216941 0.90213937 0.90225279\n",
            " 0.90246403 0.90272856 0.90300757 0.90327197]\n",
            "29 day output [[0.90350425]]\n",
            "[[0.9441320300102234], [0.9379593133926392], [0.9286534190177917], [0.9198792576789856], [0.9128097295761108], [0.9077756404876709], [0.9047325849533081], [0.9033923149108887], [0.9033220410346985], [0.9040390849113464], [0.9050924181938171], [0.9061179757118225], [0.9068655371665955], [0.9072060585021973], [0.9071162939071655], [0.9066538214683533], [0.9059270620346069], [0.905064582824707], [0.9041925668716431], [0.9034131169319153], [0.9027973413467407], [0.902381181716919], [0.902169406414032], [0.9021393656730652], [0.9022527933120728], [0.9024640321731567], [0.9027285575866699], [0.9030075669288635], [0.9032719731330872], [0.9035042524337769]]\n"
          ],
          "name": "stdout"
        }
      ]
    },
    {
      "cell_type": "code",
      "metadata": {
        "id": "5-3-jNUfw6B-"
      },
      "source": [
        "day_new=np.arange(1,101)\n",
        "day_pred=np.arange(101,131)"
      ],
      "execution_count": null,
      "outputs": []
    },
    {
      "cell_type": "code",
      "metadata": {
        "id": "D1E_LE3Zw6B-"
      },
      "source": [
        "import matplotlib.pyplot as plt"
      ],
      "execution_count": null,
      "outputs": []
    },
    {
      "cell_type": "code",
      "metadata": {
        "id": "GKRt69JXw6B-",
        "outputId": "f06ffe16-5084-409b-e256-6d67b2100d8f"
      },
      "source": [
        "len(df1)"
      ],
      "execution_count": null,
      "outputs": [
        {
          "output_type": "execute_result",
          "data": {
            "text/plain": [
              "1258"
            ]
          },
          "metadata": {
            "tags": []
          },
          "execution_count": 391
        }
      ]
    },
    {
      "cell_type": "code",
      "metadata": {
        "id": "YqEDvdyZw6B_"
      },
      "source": [
        ""
      ],
      "execution_count": null,
      "outputs": []
    },
    {
      "cell_type": "code",
      "metadata": {
        "id": "bwTum_Cow6B_",
        "outputId": "f83f1239-510b-4349-c74e-5b0e0c44317e"
      },
      "source": [
        "plt.plot(day_new,scaler.inverse_transform(df1[1158:]))\n",
        "plt.plot(day_pred,scaler.inverse_transform(lst_output))"
      ],
      "execution_count": null,
      "outputs": [
        {
          "output_type": "execute_result",
          "data": {
            "text/plain": [
              "[<matplotlib.lines.Line2D at 0x2d1b0f352b0>]"
            ]
          },
          "metadata": {
            "tags": []
          },
          "execution_count": 444
        },
        {
          "output_type": "display_data",
          "data": {
            "image/png": "[encoded data removed]",
            "text/plain": [
              "<Figure size 432x288 with 1 Axes>"
            ]
          },
          "metadata": {
            "tags": [],
            "needs_background": "light"
          }
        }
      ]
    },
    {
      "cell_type": "code",
      "metadata": {
        "id": "L8Jz30UZw6CA",
        "outputId": "bbd9c047-fcd5-4712-907d-a29633af6fc5"
      },
      "source": [
        "df3=df1.tolist()\n",
        "df3.extend(lst_output)\n",
        "plt.plot(df3[1200:])"
      ],
      "execution_count": null,
      "outputs": [
        {
          "output_type": "execute_result",
          "data": {
            "text/plain": [
              "[<matplotlib.lines.Line2D at 0x2d1b0f55ac8>]"
            ]
          },
          "metadata": {
            "tags": []
          },
          "execution_count": 446
        },
        {
          "output_type": "display_data",
          "data": {
            "image/png": "[encoded data removed]",
            "text/plain": [
              "<Figure size 432x288 with 1 Axes>"
            ]
          },
          "metadata": {
            "tags": [],
            "needs_background": "light"
          }
        }
      ]
    },
    {
      "cell_type": "code",
      "metadata": {
        "id": "OkSN5lyfw6CA"
      },
      "source": [
        "df3=scaler.inverse_transform(df3).tolist()"
      ],
      "execution_count": null,
      "outputs": []
    },
    {
      "cell_type": "code",
      "metadata": {
        "id": "KpqnbtVQw6CA",
        "outputId": "7de289e3-a35d-4447-afc9-a9244e73b88b"
      },
      "source": [
        "plt.plot(df3)"
      ],
      "execution_count": null,
      "outputs": [
        {
          "output_type": "execute_result",
          "data": {
            "text/plain": [
              "[<matplotlib.lines.Line2D at 0x2d1a904c470>]"
            ]
          },
          "metadata": {
            "tags": []
          },
          "execution_count": 396
        },
        {
          "output_type": "display_data",
          "data": {
            "image/png": "[encoded data removed]",
            "text/plain": [
              "<Figure size 432x288 with 1 Axes>"
            ]
          },
          "metadata": {
            "tags": [],
            "needs_background": "light"
          }
        }
      ]
    },
    {
      "cell_type": "code",
      "metadata": {
        "id": "dVjDTpo5w6CA"
      },
      "source": [
        ""
      ],
      "execution_count": null,
      "outputs": []
    }
  ]
}